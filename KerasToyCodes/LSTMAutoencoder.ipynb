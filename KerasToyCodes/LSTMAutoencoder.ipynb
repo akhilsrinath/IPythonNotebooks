{
 "cells": [
  {
   "cell_type": "code",
   "execution_count": 1,
   "metadata": {},
   "outputs": [
    {
     "name": "stderr",
     "output_type": "stream",
     "text": [
      "Using TensorFlow backend.\n"
     ]
    }
   ],
   "source": [
    "import numpy as np\n",
    "import keras"
   ]
  },
  {
   "cell_type": "code",
   "execution_count": 2,
   "metadata": {},
   "outputs": [],
   "source": [
    "orig_seq = 'abcdefghijklmnopqrstuvwxyz'\n",
    "\n",
    "mutrate = 0.05\n",
    "insrate = 0.01\n",
    "delrate = 0.01\n",
    "\n",
    "nbseq = 10000"
   ]
  },
  {
   "cell_type": "code",
   "execution_count": 5,
   "metadata": {},
   "outputs": [],
   "source": [
    "def generate_sequences(orig_seq, nbseq,\n",
    "                       mutrate=0.05, \n",
    "                       insrate=0.01, \n",
    "                       delrate=0.01,\n",
    "                       frontcutlen=0.1,\n",
    "                       endcutlen=0.1):\n",
    "    seqelemset = set(orig_seq)\n",
    "\n",
    "    for _ in range(nbseq):\n",
    "        thisseq = orig_seq\n",
    "\n",
    "        # mutation\n",
    "        for pos in range(len(thisseq)):\n",
    "            if np.random.uniform() < mutrate:\n",
    "                picked_char = np.random.choice(list(seqelemset - {thisseq[pos]}))\n",
    "                thisseq = thisseq[:pos]+picked_char+thisseq[(pos+1):]\n",
    "\n",
    "        # insertion\n",
    "        inspts = [pos for pos in range(len(thisseq)) if np.random.uniform() < insrate]\n",
    "        for idx, inspt in enumerate(inspts):\n",
    "            picked_char = np.random.choice(list(seqelemset))\n",
    "            thisseq = thisseq[:(inspt+idx)] + picked_char + thisseq[(inspt+idx):]\n",
    "\n",
    "        # deletion\n",
    "        delpts = [pos for pos in range(len(thisseq)) if np.random.uniform() < delrate]\n",
    "        for idx, delpt in enumerate(delpts):\n",
    "            thisseq = thisseq[:(delpt-idx)] + thisseq[(delpt-idx+1):]\n",
    "\n",
    "        # strip front and end\n",
    "        cutfront = np.random.poisson(frontcutlen)\n",
    "        cutend = np.random.poisson(endcutlen)\n",
    "        thisseq = thisseq[cutfront:(len(thisseq)-cutend)]\n",
    "\n",
    "        yield thisseq"
   ]
  },
  {
   "cell_type": "code",
   "execution_count": 6,
   "metadata": {},
   "outputs": [
    {
     "data": {
      "text/plain": [
       "['abcdefghijklmnopqbrstudwny',\n",
       " 'abcdefghijkgmnopqzstuvwxyz',\n",
       " 'abcdefghiiklmnopqrstuvwxyz',\n",
       " 'abcdefjhijklmnopkruituvwxyz',\n",
       " 'abcdefghijklmnopqrstuvwxy',\n",
       " 'pbcdefghijklmnopqmstuvwxyz',\n",
       " 'abcdefghijklmnopsrstuvwxyz',\n",
       " 'bcdefghijklmnopqrstuvwxyz',\n",
       " 'abcdefghijkmmnopqrstuvwxyz',\n",
       " 'cbcdefghitlmnopqrstuvwxyz']"
      ]
     },
     "execution_count": 6,
     "metadata": {},
     "output_type": "execute_result"
    }
   ],
   "source": [
    "[seq for seq in generate_sequences(orig_seq, 10)]"
   ]
  },
  {
   "cell_type": "code",
   "execution_count": 8,
   "metadata": {},
   "outputs": [],
   "source": [
    "# from keras.models import Sequential\n",
    "from keras.layers import LSTM, Dense, RepeatVector, TimeDistributed\n",
    "from keras import Input\n",
    "from keras.engine import Model\n",
    "from keras.utils import to_categorical"
   ]
  },
  {
   "cell_type": "code",
   "execution_count": 13,
   "metadata": {},
   "outputs": [],
   "source": [
    "chartoidx_dict = {character: index for index, character in enumerate(orig_seq)}"
   ]
  },
  {
   "cell_type": "code",
   "execution_count": 24,
   "metadata": {},
   "outputs": [],
   "source": [
    "def charseq_to_vectors(charseq, chartoidx_dict):\n",
    "    onehot = [chartoidx_dict[c] for c in charseq]\n",
    "    return to_categorical(onehot, num_classes=len(chartoidx_dict))"
   ]
  },
  {
   "cell_type": "code",
   "execution_count": 27,
   "metadata": {},
   "outputs": [
    {
     "data": {
      "text/plain": [
       "(7, 26)"
      ]
     },
     "execution_count": 27,
     "metadata": {},
     "output_type": "execute_result"
    }
   ],
   "source": [
    "charseq_to_vectors('origseq', chartoidx_dict).shape"
   ]
  },
  {
   "cell_type": "code",
   "execution_count": null,
   "metadata": {},
   "outputs": [],
   "source": [
    "# specifying the network\n",
    "input_seq = Input(shape=(None, len(chartoidx_dict)))\n",
    "encoded = LSTM(100, activation='relu')(input_seq)\n",
    "encoded = RepeatVector()(encoded)\n"
   ]
  }
 ],
 "metadata": {
  "kernelspec": {
   "display_name": "Python 3",
   "language": "python",
   "name": "python3"
  },
  "language_info": {
   "codemirror_mode": {
    "name": "ipython",
    "version": 3
   },
   "file_extension": ".py",
   "mimetype": "text/x-python",
   "name": "python",
   "nbconvert_exporter": "python",
   "pygments_lexer": "ipython3",
   "version": "3.6.7"
  }
 },
 "nbformat": 4,
 "nbformat_minor": 4
}
