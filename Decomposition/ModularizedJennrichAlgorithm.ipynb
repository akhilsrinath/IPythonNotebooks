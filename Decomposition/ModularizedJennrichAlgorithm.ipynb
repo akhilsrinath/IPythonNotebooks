{
 "cells": [
  {
   "cell_type": "code",
   "execution_count": 1,
   "metadata": {},
   "outputs": [],
   "source": [
    "import numpy as np\n",
    "import tensorflow as tf\n",
    "from itertools import product\n",
    "import random"
   ]
  },
  {
   "cell_type": "code",
   "execution_count": 5,
   "metadata": {},
   "outputs": [],
   "source": [
    "def decompose_tensor_jennrich(rank3tensor):\n",
    "    # initialize two random variables\n",
    "    a = np.random.uniform(size=x.shape[2])\n",
    "    b = np.random.uniform(size=x.shape[2])\n",
    "    \n",
    "    # T_a and T_b\n",
    "    Ta = sum(x[:, :, i]*a[i] for i in range(x.shape[2]))\n",
    "    Tb = sum(x[:, :, i]*b[i] for i in range(x.shape[2]))\n",
    "    \n",
    "    # eigenvalues of various auxilliary matrices\n",
    "    eigvals_u, eigvecs_u = np.linalg.eig(np.matmul(Ta, np.linalg.pinv(Tb)))\n",
    "    eigvals_v, eigvecs_v = np.linalg.eig(np.transpose(np.matmul(np.linalg.pinv(Ta), Tb)))\n",
    "    \n",
    "    # pair up reciprocal eigenvalues\n",
    "    # pair up eigenvalues of Ta and Tb\n",
    "    idx_pairs = []\n",
    "    tol = 1e-5\n",
    "\n",
    "    for i, eigval_u in enumerate(eigvals_u):\n",
    "        for j, eigval_v in enumerate(eigvals_v):\n",
    "            if abs(eigval_u - 1/eigval_v) < tol:\n",
    "                idx_pairs += [(i, j)]\n",
    "                break\n",
    "\n",
    "    # solving for third eigenvectors\n",
    "    nbcomp = len(idx_pairs)\n",
    "    A = np.zeros((nbcomp*x.shape[2], nbcomp*x.shape[2]))\n",
    "    B = np.zeros(nbcomp*x.shape[2])\n",
    "    eqidx = 0\n",
    "    for k in range(x.shape[2]):\n",
    "        for i, j in random.choices(list(product(range(x.shape[0]), range(x.shape[1]))), k=nbcomp):\n",
    "            B[eqidx] = x[i, j, k]\n",
    "            for ck in range(nbcomp):\n",
    "                A[eqidx, ck*x.shape[2]+k] = eigvecs_u[i, idx_pairs[ck][0]]*eigvecs_v[j, idx_pairs[ck][1]]\n",
    "            eqidx += 1\n",
    "            \n",
    "    sol = np.linalg.solve(A, B)\n",
    "    eigvecs_w = sol.reshape((nbcomp, x.shape[2]), order='F')\n",
    "    \n",
    "    # rearranging eigenvectors\n",
    "    rearranged_eigvecs_u = np.zeros(shape=eigvecs_u.shape)\n",
    "    rearranged_eigvecs_v = np.zeros(shape=eigvecs_v.shape)\n",
    "    for i, (u_idx, v_idx) in enumerate(idx_pairs):\n",
    "        rearranged_eigvecs_u[:, i] = eigvecs_u[:, u_idx]\n",
    "        rearranged_eigvecs_v[:, i] = eigvecs_v[:, v_idx]\n",
    "    rearranged_eigvecs_w = eigvecs_w\n",
    "    \n",
    "    # return values\n",
    "    return rearranged_eigvecs_u, rearranged_eigvecs_v, rearranged_eigvecs_w"
   ]
  },
  {
   "cell_type": "code",
   "execution_count": 6,
   "metadata": {},
   "outputs": [],
   "source": [
    "# testing\n",
    "x1 = np.array([[-1.3, 1], [2, -1.4]], dtype=np.float32)\n",
    "x2 = np.array([[1, 0], [-1.5, 0.6]], dtype=np.float32)\n",
    "x = np.zeros((2, 2, 2))\n",
    "x[:, :, 0] = x1\n",
    "x[:, :, 1] = x2"
   ]
  },
  {
   "cell_type": "code",
   "execution_count": 7,
   "metadata": {},
   "outputs": [],
   "source": [
    "eigvecs_u, eigvecs_v, eigvecs_w = decompose_tensor_jennrich(x)"
   ]
  },
  {
   "cell_type": "code",
   "execution_count": 8,
   "metadata": {},
   "outputs": [],
   "source": [
    "# verfication\n",
    "xh = np.zeros(x.shape)\n",
    "for i, j, k in product(range(x.shape[0]), range(x.shape[1]), range(x.shape[2])):\n",
    "    xh[i, j, k] = sum([eigvecs_u[i, alpha]*eigvecs_v[j, alpha]*eigvecs_w[k, alpha] for alpha in range(eigvecs_u.shape[1])])"
   ]
  },
  {
   "cell_type": "code",
   "execution_count": 9,
   "metadata": {},
   "outputs": [
    {
     "data": {
      "text/plain": [
       "array([[[-1.29999995e+00,  1.00000000e+00],\n",
       "        [ 1.00000000e+00, -3.33066907e-16]],\n",
       "\n",
       "       [[ 2.00000000e+00, -1.50000000e+00],\n",
       "        [-1.39999998e+00,  6.00000024e-01]]])"
      ]
     },
     "execution_count": 9,
     "metadata": {},
     "output_type": "execute_result"
    }
   ],
   "source": [
    "xh"
   ]
  },
  {
   "cell_type": "code",
   "execution_count": 10,
   "metadata": {},
   "outputs": [
    {
     "data": {
      "text/plain": [
       "array([[[-1.29999995,  1.        ],\n",
       "        [ 1.        ,  0.        ]],\n",
       "\n",
       "       [[ 2.        , -1.5       ],\n",
       "        [-1.39999998,  0.60000002]]])"
      ]
     },
     "execution_count": 10,
     "metadata": {},
     "output_type": "execute_result"
    }
   ],
   "source": [
    "x"
   ]
  },
  {
   "cell_type": "code",
   "execution_count": null,
   "metadata": {},
   "outputs": [],
   "source": []
  }
 ],
 "metadata": {
  "kernelspec": {
   "display_name": "Python 3",
   "language": "python",
   "name": "python3"
  },
  "language_info": {
   "codemirror_mode": {
    "name": "ipython",
    "version": 3
   },
   "file_extension": ".py",
   "mimetype": "text/x-python",
   "name": "python",
   "nbconvert_exporter": "python",
   "pygments_lexer": "ipython3",
   "version": "3.6.7"
  }
 },
 "nbformat": 4,
 "nbformat_minor": 4
}
