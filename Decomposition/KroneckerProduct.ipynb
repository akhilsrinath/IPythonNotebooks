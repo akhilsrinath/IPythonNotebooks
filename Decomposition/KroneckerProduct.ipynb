{
 "cells": [
  {
   "cell_type": "code",
   "execution_count": 1,
   "metadata": {},
   "outputs": [],
   "source": [
    "import numpy as np\n",
    "import tensorflow as tf"
   ]
  },
  {
   "cell_type": "code",
   "execution_count": 7,
   "metadata": {},
   "outputs": [],
   "source": [
    "m1 = np.array([[1, 1.4, 0], [2, 3, 3]])\n",
    "m2 = np.array([[2, 3], [1, 5]])"
   ]
  },
  {
   "cell_type": "code",
   "execution_count": 9,
   "metadata": {},
   "outputs": [],
   "source": [
    "tm1 = tf.placeholder(shape=m1.shape, dtype=tf.float32)\n",
    "tm2 = tf.placeholder(shape=m2.shape, dtype=tf.float32)"
   ]
  },
  {
   "cell_type": "code",
   "execution_count": 11,
   "metadata": {},
   "outputs": [],
   "source": [
    "def tf_kronecker_product(tm1, tm2):\n",
    "    kprod0 = tf.multiply(tm1[0, 0], tm2)\n",
    "\n",
    "    j0 = tf.constant(1)\n",
    "    _, kprod = tf.while_loop(lambda j, m: tf.less(j, tm1.shape[1]),\n",
    "                             lambda j, m: [j+1, tf.concat([m, tf.multiply(tm1[0, j], tm2)], axis=1)],\n",
    "                             loop_vars=[j0, kprod0],\n",
    "                             shape_invariants=[j0.get_shape(), tf.TensorShape([tm1.shape[0], None])])\n",
    "    \n",
    "    for i in range(1, tm1.shape[0]):\n",
    "        kprod0 = tf.multiply(tm1[i, 0], tm2)\n",
    "\n",
    "        j0 = tf.constant(1)\n",
    "        _, kprod1 = tf.while_loop(lambda j, m: tf.less(j, tm1.shape[1]),\n",
    "                                  lambda j, m: [j+1, tf.concat([m, tf.multiply(tm1[i, j], tm2)], axis=1)],\n",
    "                                  loop_vars=[j0, kprod0],\n",
    "                                  shape_invariants=[j0.get_shape(), tf.TensorShape([tm1.shape[0], None])])\n",
    "\n",
    "        kprod = tf.concat([kprod, kprod1], axis=0)\n",
    "        \n",
    "    return kprod"
   ]
  },
  {
   "cell_type": "code",
   "execution_count": 12,
   "metadata": {},
   "outputs": [],
   "source": [
    "kprod = tf_kronecker_product(tm1, tm2)"
   ]
  },
  {
   "cell_type": "code",
   "execution_count": 13,
   "metadata": {},
   "outputs": [
    {
     "data": {
      "text/plain": [
       "array([[ 2. ,  3. ,  2.8,  4.2,  0. ,  0. ],\n",
       "       [ 1. ,  5. ,  1.4,  7. ,  0. ,  0. ],\n",
       "       [ 4. ,  6. ,  6. ,  9. ,  6. ,  9. ],\n",
       "       [ 2. , 10. ,  3. , 15. ,  3. , 15. ]], dtype=float32)"
      ]
     },
     "execution_count": 13,
     "metadata": {},
     "output_type": "execute_result"
    }
   ],
   "source": [
    "sess = tf.Session()\n",
    "init = tf.global_variables_initializer()\n",
    "\n",
    "sess.run(init)\n",
    "sess.run(kprod, feed_dict={tm1: m1, tm2: m2})"
   ]
  },
  {
   "cell_type": "code",
   "execution_count": null,
   "metadata": {},
   "outputs": [],
   "source": []
  }
 ],
 "metadata": {
  "kernelspec": {
   "display_name": "Python 3",
   "language": "python",
   "name": "python3"
  },
  "language_info": {
   "codemirror_mode": {
    "name": "ipython",
    "version": 3
   },
   "file_extension": ".py",
   "mimetype": "text/x-python",
   "name": "python",
   "nbconvert_exporter": "python",
   "pygments_lexer": "ipython3",
   "version": "3.6.7"
  }
 },
 "nbformat": 4,
 "nbformat_minor": 4
}
