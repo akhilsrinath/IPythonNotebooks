{
 "cells": [
  {
   "cell_type": "code",
   "execution_count": 1,
   "metadata": {},
   "outputs": [],
   "source": [
    "import numpy as np\n",
    "import tensorflow as tf"
   ]
  },
  {
   "cell_type": "code",
   "execution_count": 2,
   "metadata": {},
   "outputs": [],
   "source": [
    "def khatrirao_product(tensor1, tensor2):\n",
    "    i0 = tf.constant(1)\n",
    "    prod0 = tf.multiply(tensor1[0, :], tensor2)\n",
    "    _, khprod = tf.while_loop(lambda i, m: tf.less(i, tf.shape(tensor1)[0]),\n",
    "                              lambda i, m: [i+1, tf.concat([m, tf.multiply(tensor1[i, :], tensor2)], 0)],\n",
    "                              loop_vars=[i0, prod0],\n",
    "                              shape_invariants=[i0.get_shape(), tf.TensorShape([None, None])])\n",
    "    return khprod"
   ]
  },
  {
   "cell_type": "code",
   "execution_count": 3,
   "metadata": {},
   "outputs": [],
   "source": [
    "def rank3tensor_decomposition_ALS(matrix, k, alpha=0.01, nbiter=1000):\n",
    "    dim0, dim1, dim2 = matrix.shape\n",
    "\n",
    "    #X = tf.placeholder(tf.float32, shape=(None, None, None), name='X')\n",
    "    #X_shape = tf.shape(X)\n",
    "    #Xdim0, Xdim1, Xdim2 = X_shape[0], X_shape[1], X_shape[2]\n",
    "    X = tf.placeholder(tf.float32, shape=(dim0, dim1, dim2), name='X')\n",
    "    \n",
    "    X0 = tf.reshape(tf.transpose(X, perm=(0, 2, 1)), shape=(dim0, dim1*dim2))\n",
    "    X1 = tf.reshape(tf.transpose(X, perm=(1, 2, 0)), shape=(dim1, dim0*dim2))\n",
    "    X2 = tf.reshape(tf.transpose(X, perm=(2, 0, 1)), shape=(dim2, dim0*dim1))\n",
    "    \n",
    "    A = tf.Variable(initial_value=tf.random_normal([dim0, k]), name='A')\n",
    "    B = tf.Variable(initial_value=tf.random_normal([dim1, k]), name='B')\n",
    "    C = tf.Variable(initial_value=tf.random_normal([dim2, k]), name='C')\n",
    "\n",
    "    costA = tf.reduce_sum(tf.abs(X0 - tf.matmul(A, tf.transpose(khatrirao_product(C, B)))))\n",
    "    costB = tf.reduce_sum(tf.abs(X1 - tf.matmul(B, tf.transpose(khatrirao_product(C, A)))))\n",
    "    costC = tf.reduce_sum(tf.abs(X2 - tf.matmul(C, tf.transpose(khatrirao_product(B, A)))))\n",
    "    \n",
    "    trainA = tf.train.GradientDescentOptimizer(alpha).minimize(costA)\n",
    "    trainB = tf.train.GradientDescentOptimizer(alpha).minimize(costB)\n",
    "    trainC = tf.train.GradientDescentOptimizer(alpha).minimize(costC)\n",
    "    \n",
    "    init = tf.global_variables_initializer()\n",
    "    \n",
    "    sess = tf.Session()\n",
    "    sess.run(init)\n",
    "\n",
    "    for _ in range(nbiter):\n",
    "        sess.run(trainA, feed_dict={X: matrix})\n",
    "        sess.run(trainB, feed_dict={X: matrix})\n",
    "        sess.run(trainC, feed_dict={X: matrix})\n",
    "\n",
    "    return sess.run((A, B, C), feed_dict={X: matrix})"
   ]
  },
  {
   "cell_type": "code",
   "execution_count": 4,
   "metadata": {},
   "outputs": [],
   "source": [
    "def rank3tensor_decomposition_ALS_closed(matrix, k, nbiter=1000):\n",
    "    dim0, dim1, dim2 = matrix.shape\n",
    "\n",
    "    #X = tf.placeholder(tf.float32, shape=(None, None, None), name='X')\n",
    "    #X_shape = tf.shape(X)\n",
    "    #Xdim0, Xdim1, Xdim2 = X_shape[0], X_shape[1], X_shape[2]\n",
    "    X = tf.placeholder(tf.float32, shape=(dim0, dim1, dim2), name='X')\n",
    "    \n",
    "    X0 = tf.reshape(tf.transpose(X, perm=(0, 2, 1)), shape=(dim0, dim1*dim2))\n",
    "    X1 = tf.reshape(tf.transpose(X, perm=(1, 2, 0)), shape=(dim1, dim0*dim2))\n",
    "    X2 = tf.reshape(tf.transpose(X, perm=(2, 0, 1)), shape=(dim2, dim0*dim1))\n",
    "    \n",
    "    A = tf.Variable(initial_value=tf.random_normal([dim0, k]), name='A')\n",
    "    B = tf.Variable(initial_value=tf.random_normal([dim1, k]), name='B')\n",
    "    C = tf.Variable(initial_value=tf.random_normal([dim2, k]), name='C')\n",
    "\n",
    "    for _ in range(nbiter):\n",
    "        A = tf.matmul(tf.matmul(X0, khatrirao_product(C, B)), \n",
    "                      tf.multiply(tf.matmul(tf.transpose(C), C), tf.matmul(tf.transpose(B), B)))\n",
    "        B = tf.matmul(tf.matmul(X1, khatrirao_product(C, A)), \n",
    "                      tf.multiply(tf.matmul(tf.transpose(C), C), tf.matmul(tf.transpose(A), A)))\n",
    "        C = tf.matmul(tf.matmul(X2, khatrirao_product(B, A)), \n",
    "                      tf.multiply(tf.matmul(tf.transpose(B), B), tf.matmul(tf.transpose(A), A)))\n",
    "        \n",
    "    init = tf.global_variables_initializer()\n",
    "    \n",
    "    sess = tf.Session()\n",
    "    sess.run(init)\n",
    "    \n",
    "    return sess.run((A, B, C), feed_dict={X: matrix})"
   ]
  },
  {
   "cell_type": "markdown",
   "metadata": {},
   "source": [
    "# Test: Method 1"
   ]
  },
  {
   "cell_type": "code",
   "execution_count": 5,
   "metadata": {},
   "outputs": [],
   "source": [
    "# x1 = np.array([[1, 4, 7, 10], [2, 5, 8, 11], [3, 6, 9, 12]], dtype=np.float32)\n",
    "# x2 = np.array([[13, 16, 19, 22], [14, 17, 20, 23], [15, 18, 21, 24]], dtype=np.float32)\n",
    "# x = np.zeros((3, 4, 2))\n",
    "# x[:, :, 0] = x1\n",
    "# x[:, :, 1] = x2\n",
    "x1 = np.array([[1, 0], [0, 1]], dtype=np.float32)\n",
    "x2 = np.array([[0, -1], [1, 0]], dtype=np.float32)\n",
    "x = np.zeros((2, 2, 2))\n",
    "x[:, :, 0] = x1\n",
    "x[:, :, 1] = x2"
   ]
  },
  {
   "cell_type": "code",
   "execution_count": 6,
   "metadata": {},
   "outputs": [],
   "source": [
    "A, B, C = rank3tensor_decomposition_ALS(x, k=2, nbiter=10000)"
   ]
  },
  {
   "cell_type": "code",
   "execution_count": 7,
   "metadata": {},
   "outputs": [
    {
     "data": {
      "text/plain": [
       "array([[-0.16030072, -0.97753346],\n",
       "       [ 0.9448817 , -0.1307766 ]], dtype=float32)"
      ]
     },
     "execution_count": 7,
     "metadata": {},
     "output_type": "execute_result"
    }
   ],
   "source": [
    "B"
   ]
  },
  {
   "cell_type": "code",
   "execution_count": 8,
   "metadata": {},
   "outputs": [],
   "source": [
    "mat = np.zeros((A.shape[0], B.shape[0], C.shape[0]))"
   ]
  },
  {
   "cell_type": "code",
   "execution_count": 9,
   "metadata": {
    "collapsed": false,
    "jupyter": {
     "outputs_hidden": false
    }
   },
   "outputs": [
    {
     "name": "stdout",
     "output_type": "stream",
     "text": [
      "0, 0, 0\n",
      "0, 0, 1\n",
      "0, 1, 0\n",
      "0, 1, 1\n",
      "1, 0, 0\n",
      "1, 0, 1\n",
      "1, 1, 0\n",
      "1, 1, 1\n"
     ]
    }
   ],
   "source": [
    "from itertools import product\n",
    "\n",
    "for i, j, k in product(range(A.shape[0]), range(B.shape[0]), range(C.shape[0])):\n",
    "    print('{}, {}, {}'.format(i, j, k))\n",
    "    mat[i, j, k] = sum(A[i, alpha]*B[j, alpha]*C[k, alpha] for alpha in range(2))"
   ]
  },
  {
   "cell_type": "code",
   "execution_count": 10,
   "metadata": {
    "collapsed": false,
    "jupyter": {
     "outputs_hidden": false
    }
   },
   "outputs": [
    {
     "data": {
      "text/plain": [
       "array([[[ 0.00137881, -0.00125296],\n",
       "        [-0.00927888,  0.00120364]],\n",
       "\n",
       "       [[ 0.01683114,  0.98761301],\n",
       "        [ 0.9833448 , -0.01003787]]])"
      ]
     },
     "execution_count": 10,
     "metadata": {},
     "output_type": "execute_result"
    }
   ],
   "source": [
    "mat"
   ]
  },
  {
   "cell_type": "code",
   "execution_count": 11,
   "metadata": {
    "collapsed": false,
    "jupyter": {
     "outputs_hidden": false
    }
   },
   "outputs": [
    {
     "data": {
      "text/plain": [
       "array([[[ 1.,  0.],\n",
       "        [ 0., -1.]],\n",
       "\n",
       "       [[ 0.,  1.],\n",
       "        [ 1.,  0.]]])"
      ]
     },
     "execution_count": 11,
     "metadata": {},
     "output_type": "execute_result"
    }
   ],
   "source": [
    "x"
   ]
  },
  {
   "cell_type": "markdown",
   "metadata": {},
   "source": [
    "# Method 2"
   ]
  },
  {
   "cell_type": "code",
   "execution_count": 12,
   "metadata": {
    "collapsed": false,
    "jupyter": {
     "outputs_hidden": false
    }
   },
   "outputs": [],
   "source": [
    "A, B, C = rank3tensor_decomposition_ALS_closed(x, k=5, nbiter=1)"
   ]
  },
  {
   "cell_type": "code",
   "execution_count": 13,
   "metadata": {},
   "outputs": [],
   "source": [
    "mat = np.zeros((A.shape[0], B.shape[0], C.shape[0]))"
   ]
  },
  {
   "cell_type": "code",
   "execution_count": 14,
   "metadata": {},
   "outputs": [],
   "source": [
    "from itertools import product\n",
    "\n",
    "for i, j, k in product(range(A.shape[0]), range(B.shape[0]), range(C.shape[0])):\n",
    "    mat[i, j, k] = sum(A[i, alpha]*B[j, alpha]*C[k, alpha] for alpha in range(5))"
   ]
  },
  {
   "cell_type": "code",
   "execution_count": 15,
   "metadata": {
    "collapsed": false,
    "jupyter": {
     "outputs_hidden": false
    }
   },
   "outputs": [
    {
     "data": {
      "text/plain": [
       "array([[[ 0.0313062 , -0.02590907],\n",
       "        [-0.08808526,  0.07289987]],\n",
       "\n",
       "       [[-0.01869485,  0.0154709 ],\n",
       "        [ 0.0525422 , -0.04348133]]])"
      ]
     },
     "execution_count": 15,
     "metadata": {},
     "output_type": "execute_result"
    }
   ],
   "source": [
    "mat"
   ]
  },
  {
   "cell_type": "code",
   "execution_count": 16,
   "metadata": {
    "collapsed": false,
    "jupyter": {
     "outputs_hidden": false
    }
   },
   "outputs": [
    {
     "data": {
      "text/plain": [
       "array([[[ 1.,  0.],\n",
       "        [ 0., -1.]],\n",
       "\n",
       "       [[ 0.,  1.],\n",
       "        [ 1.,  0.]]])"
      ]
     },
     "execution_count": 16,
     "metadata": {},
     "output_type": "execute_result"
    }
   ],
   "source": [
    "x"
   ]
  },
  {
   "cell_type": "code",
   "execution_count": 17,
   "metadata": {
    "collapsed": false,
    "jupyter": {
     "outputs_hidden": false
    }
   },
   "outputs": [
    {
     "data": {
      "text/plain": [
       "(array([[ 0.00901352,  0.62060016, -0.00333547,  0.36581847,  0.16333474],\n",
       "        [-0.02764865, -0.38201916, -0.03696703, -0.1044168 , -0.03626882]],\n",
       "       dtype=float32),\n",
       " array([[ 2.52986240e-04, -2.75214374e-01,  1.17825344e-04,\n",
       "          1.20429188e-01,  1.42035941e-02],\n",
       "        [-5.97719220e-04,  7.72701561e-01, -2.62133311e-04,\n",
       "         -3.51158172e-01, -4.16347943e-02]], dtype=float32),\n",
       " array([[ 4.1215394e-06, -1.7308137e-01,  1.3423387e-06,  3.9485443e-02,\n",
       "          2.0211630e-03],\n",
       "        [-3.3875808e-06,  1.4322491e-01, -1.0928622e-06, -3.2746196e-02,\n",
       "         -1.6770517e-03]], dtype=float32))"
      ]
     },
     "execution_count": 17,
     "metadata": {},
     "output_type": "execute_result"
    }
   ],
   "source": [
    "A, B, C"
   ]
  },
  {
   "cell_type": "code",
   "execution_count": null,
   "metadata": {
    "collapsed": true,
    "jupyter": {
     "outputs_hidden": true
    }
   },
   "outputs": [],
   "source": []
  }
 ],
 "metadata": {
  "kernelspec": {
   "display_name": "Python 3",
   "language": "python",
   "name": "python3"
  },
  "language_info": {
   "codemirror_mode": {
    "name": "ipython",
    "version": 3
   },
   "file_extension": ".py",
   "mimetype": "text/x-python",
   "name": "python",
   "nbconvert_exporter": "python",
   "pygments_lexer": "ipython3",
   "version": "3.6.7"
  }
 },
 "nbformat": 4,
 "nbformat_minor": 4
}
