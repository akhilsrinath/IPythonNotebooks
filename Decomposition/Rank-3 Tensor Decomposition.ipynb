{
 "cells": [
  {
   "cell_type": "code",
   "execution_count": 1,
   "metadata": {
    "collapsed": true
   },
   "outputs": [],
   "source": [
    "import numpy as np\n",
    "import tensorflow as tf"
   ]
  },
  {
   "cell_type": "code",
   "execution_count": 2,
   "metadata": {
    "collapsed": true
   },
   "outputs": [],
   "source": [
    "def khatrirao_product(tensor1, tensor2):\n",
    "    i0 = tf.constant(1)\n",
    "    prod0 = tf.multiply(tensor1[0, :], tensor2)\n",
    "    _, khprod = tf.while_loop(lambda i, m: tf.less(i, tf.shape(tensor1)[0]),\n",
    "                              lambda i, m: [i+1, tf.concat([m, tf.multiply(tensor1[i, :], tensor2)], 0)],\n",
    "                              loop_vars=[i0, prod0],\n",
    "                              shape_invariants=[i0.get_shape(), tf.TensorShape([None, None])])\n",
    "    return khprod"
   ]
  },
  {
   "cell_type": "code",
   "execution_count": 3,
   "metadata": {
    "collapsed": true
   },
   "outputs": [],
   "source": [
    "def rank3tensor_decomposition_ALS(matrix, k, alpha=0.01, nbiter=1000):\n",
    "    dim0, dim1, dim2 = matrix.shape\n",
    "\n",
    "    X = tf.placeholder(tf.float32, shape=(None, None, None), name='X')\n",
    "    #X_shape = tf.shape(X)\n",
    "    #Xdim0, Xdim1, Xdim2 = X_shape[0], X_shape[1], X_shape[2]\n",
    "    \n",
    "    X0 = tf.reshape(tf.transpose(X, perm=(0, 2, 1)), shape=(dim0, dim1*dim2))\n",
    "    X1 = tf.reshape(tf.transpose(X, perm=(1, 2, 0)), shape=(dim1, dim0*dim2))\n",
    "    X2 = tf.reshape(tf.transpose(X, perm=(2, 0, 1)), shape=(dim2, dim0*dim1))\n",
    "    \n",
    "    A = tf.Variable(initial_value=tf.random_normal([dim0, k]), name='A')\n",
    "    B = tf.Variable(initial_value=tf.random_normal([dim1, k]), name='B')\n",
    "    C = tf.Variable(initial_value=tf.random_normal([dim2, k]), name='C')\n",
    "\n",
    "    costA = tf.reduce_sum(tf.abs(X0 - tf.matmul(A, tf.transpose(khatrirao_product(C, B)))))\n",
    "    costB = tf.reduce_sum(tf.abs(X1 - tf.matmul(B, tf.transpose(khatrirao_product(C, A)))))\n",
    "    costC = tf.reduce_sum(tf.abs(X2 - tf.matmul(C, tf.transpose(khatrirao_product(B, A)))))\n",
    "    \n",
    "    trainA = tf.train.GradientDescentOptimizer(alpha).minimize(costA)\n",
    "    trainB = tf.train.GradientDescentOptimizer(alpha).minimize(costB)\n",
    "    trainC = tf.train.GradientDescentOptimizer(alpha).minimize(costC)\n",
    "    \n",
    "    init = tf.global_variables_initializer()\n",
    "    \n",
    "    sess = tf.Session()\n",
    "    sess.run(init)\n",
    "\n",
    "    for _ in range(nbiter):\n",
    "        sess.run(trainA, feed_dict={X: x})\n",
    "        sess.run(trainB, feed_dict={X: x})\n",
    "        sess.run(trainC, feed_dict={X: x})\n",
    "\n",
    "    return sess.run((A, B, C), feed_dict={X: x})"
   ]
  },
  {
   "cell_type": "markdown",
   "metadata": {},
   "source": [
    "# Test"
   ]
  },
  {
   "cell_type": "code",
   "execution_count": 4,
   "metadata": {
    "collapsed": true
   },
   "outputs": [],
   "source": [
    "x1 = np.array([[1, 4, 7, 10], [2, 5, 8, 11], [3, 6, 9, 12]], dtype=np.float32)\n",
    "x2 = np.array([[13, 16, 19, 22], [14, 17, 20, 23], [15, 18, 21, 24]], dtype=np.float32)\n",
    "x = np.zeros((3, 4, 2))\n",
    "x[:, :, 0] = x1\n",
    "x[:, :, 1] = x2"
   ]
  },
  {
   "cell_type": "code",
   "execution_count": 5,
   "metadata": {
    "collapsed": true
   },
   "outputs": [],
   "source": [
    "A, B, C = rank3tensor_decomposition_ALS(x, k=5, nbiter=10000)"
   ]
  },
  {
   "cell_type": "code",
   "execution_count": 6,
   "metadata": {
    "collapsed": true
   },
   "outputs": [],
   "source": [
    "mat = np.zeros((A.shape[0], B.shape[0], C.shape[0]))"
   ]
  },
  {
   "cell_type": "code",
   "execution_count": 7,
   "metadata": {
    "collapsed": false
   },
   "outputs": [],
   "source": [
    "from itertools import product\n",
    "\n",
    "for i, j, k in product(range(A.shape[0]), range(B.shape[0]), range(C.shape[0])):\n",
    "    mat[i, j, k] = sum(A[i, alpha]*B[j, alpha]*C[k, alpha] for alpha in range(5))"
   ]
  },
  {
   "cell_type": "code",
   "execution_count": 8,
   "metadata": {
    "collapsed": false
   },
   "outputs": [
    {
     "data": {
      "text/plain": [
       "array([[[ 1.10114574, 13.09981078],\n",
       "        [ 3.66990714, 15.46098259],\n",
       "        [ 6.44580641, 18.98348343],\n",
       "        [ 7.73837258, 19.43592691]],\n",
       "\n",
       "       [[ 2.22968877, 15.32210699],\n",
       "        [ 3.87107951, 16.50796902],\n",
       "        [ 7.95512927, 21.52198064],\n",
       "        [ 9.78726657, 21.99262214]],\n",
       "\n",
       "       [[ 3.13514873, 15.4740954 ],\n",
       "        [ 4.96382653, 16.6664874 ],\n",
       "        [ 7.34533671, 19.52429676],\n",
       "        [10.88494436, 22.1497407 ]]])"
      ]
     },
     "execution_count": 8,
     "metadata": {},
     "output_type": "execute_result"
    }
   ],
   "source": [
    "mat"
   ]
  },
  {
   "cell_type": "markdown",
   "metadata": {},
   "source": [
    "x"
   ]
  },
  {
   "cell_type": "code",
   "execution_count": 9,
   "metadata": {
    "collapsed": false
   },
   "outputs": [
    {
     "data": {
      "text/plain": [
       "array([[[ 1., 13.],\n",
       "        [ 4., 16.],\n",
       "        [ 7., 19.],\n",
       "        [10., 22.]],\n",
       "\n",
       "       [[ 2., 14.],\n",
       "        [ 5., 17.],\n",
       "        [ 8., 20.],\n",
       "        [11., 23.]],\n",
       "\n",
       "       [[ 3., 15.],\n",
       "        [ 6., 18.],\n",
       "        [ 9., 21.],\n",
       "        [12., 24.]]])"
      ]
     },
     "execution_count": 9,
     "metadata": {},
     "output_type": "execute_result"
    }
   ],
   "source": [
    "x"
   ]
  },
  {
   "cell_type": "code",
   "execution_count": null,
   "metadata": {
    "collapsed": true
   },
   "outputs": [],
   "source": []
  }
 ],
 "metadata": {
  "kernelspec": {
   "display_name": "Python 3",
   "language": "python",
   "name": "python3"
  },
  "language_info": {
   "codemirror_mode": {
    "name": "ipython",
    "version": 3
   },
   "file_extension": ".py",
   "mimetype": "text/x-python",
   "name": "python",
   "nbconvert_exporter": "python",
   "pygments_lexer": "ipython3",
   "version": "3.6.7"
  }
 },
 "nbformat": 4,
 "nbformat_minor": 2
}
