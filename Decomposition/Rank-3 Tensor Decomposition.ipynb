{
 "cells": [
  {
   "cell_type": "code",
   "execution_count": 1,
   "metadata": {
    "collapsed": true
   },
   "outputs": [],
   "source": [
    "import numpy as np\n",
    "import tensorflow as tf"
   ]
  },
  {
   "cell_type": "code",
   "execution_count": 2,
   "metadata": {
    "collapsed": true
   },
   "outputs": [],
   "source": [
    "def khatrirao_product(tensor1, tensor2):\n",
    "    i0 = tf.constant(1)\n",
    "    prod0 = tf.multiply(tensor1[0, :], tensor2)\n",
    "    _, khprod = tf.while_loop(lambda i, m: tf.less(i, tf.shape(tensor1)[0]),\n",
    "                              lambda i, m: [i+1, tf.concat([m, tf.multiply(tensor1[i, :], tensor2)], 0)],\n",
    "                              loop_vars=[i0, prod0],\n",
    "                              shape_invariants=[i0.get_shape(), tf.TensorShape([None, None])])\n",
    "    return khprod"
   ]
  },
  {
   "cell_type": "code",
   "execution_count": 3,
   "metadata": {
    "collapsed": true
   },
   "outputs": [],
   "source": [
    "def rank3tensor_decomposition_ALS(matrix, k, alpha=0.01, nbiter=1000):\n",
    "    dim0, dim1, dim2 = matrix.shape\n",
    "\n",
    "    #X = tf.placeholder(tf.float32, shape=(None, None, None), name='X')\n",
    "    #X_shape = tf.shape(X)\n",
    "    #Xdim0, Xdim1, Xdim2 = X_shape[0], X_shape[1], X_shape[2]\n",
    "    X = tf.placeholder(tf.float32, shape=(dim0, dim1, dim2), name='X')\n",
    "    \n",
    "    X0 = tf.reshape(tf.transpose(X, perm=(0, 2, 1)), shape=(dim0, dim1*dim2))\n",
    "    X1 = tf.reshape(tf.transpose(X, perm=(1, 2, 0)), shape=(dim1, dim0*dim2))\n",
    "    X2 = tf.reshape(tf.transpose(X, perm=(2, 0, 1)), shape=(dim2, dim0*dim1))\n",
    "    \n",
    "    A = tf.Variable(initial_value=tf.random_normal([dim0, k]), name='A')\n",
    "    B = tf.Variable(initial_value=tf.random_normal([dim1, k]), name='B')\n",
    "    C = tf.Variable(initial_value=tf.random_normal([dim2, k]), name='C')\n",
    "\n",
    "    costA = tf.reduce_sum(tf.abs(X0 - tf.matmul(A, tf.transpose(khatrirao_product(C, B)))))\n",
    "    costB = tf.reduce_sum(tf.abs(X1 - tf.matmul(B, tf.transpose(khatrirao_product(C, A)))))\n",
    "    costC = tf.reduce_sum(tf.abs(X2 - tf.matmul(C, tf.transpose(khatrirao_product(B, A)))))\n",
    "    \n",
    "    trainA = tf.train.GradientDescentOptimizer(alpha).minimize(costA)\n",
    "    trainB = tf.train.GradientDescentOptimizer(alpha).minimize(costB)\n",
    "    trainC = tf.train.GradientDescentOptimizer(alpha).minimize(costC)\n",
    "    \n",
    "    init = tf.global_variables_initializer()\n",
    "    \n",
    "    sess = tf.Session()\n",
    "    sess.run(init)\n",
    "\n",
    "    for _ in range(nbiter):\n",
    "        sess.run(trainA, feed_dict={X: x})\n",
    "        sess.run(trainB, feed_dict={X: x})\n",
    "        sess.run(trainC, feed_dict={X: x})\n",
    "\n",
    "    return sess.run((A, B, C), feed_dict={X: x})"
   ]
  },
  {
   "cell_type": "code",
   "execution_count": 4,
   "metadata": {
    "collapsed": true
   },
   "outputs": [],
   "source": [
    "def rank3tensor_decomposition_ALS_closed(matrix, k, nbiter=1000):\n",
    "    dim0, dim1, dim2 = matrix.shape\n",
    "\n",
    "    #X = tf.placeholder(tf.float32, shape=(None, None, None), name='X')\n",
    "    #X_shape = tf.shape(X)\n",
    "    #Xdim0, Xdim1, Xdim2 = X_shape[0], X_shape[1], X_shape[2]\n",
    "    X = tf.placeholder(tf.float32, shape=(dim0, dim1, dim2), name='X')\n",
    "    \n",
    "    X0 = tf.reshape(tf.transpose(X, perm=(0, 2, 1)), shape=(dim0, dim1*dim2))\n",
    "    X1 = tf.reshape(tf.transpose(X, perm=(1, 2, 0)), shape=(dim1, dim0*dim2))\n",
    "    X2 = tf.reshape(tf.transpose(X, perm=(2, 0, 1)), shape=(dim2, dim0*dim1))\n",
    "    \n",
    "    A = tf.Variable(initial_value=tf.random_normal([dim0, k]), name='A')\n",
    "    B = tf.Variable(initial_value=tf.random_normal([dim1, k]), name='B')\n",
    "    C = tf.Variable(initial_value=tf.random_normal([dim2, k]), name='C')\n",
    "\n",
    "    for _ in range(nbiter):\n",
    "        A = tf.matmul(tf.matmul(X0, khatrirao_product(C, B)), \n",
    "                      tf.multiply(tf.matmul(tf.transpose(C), C), tf.matmul(tf.transpose(B), B)))\n",
    "        B = tf.matmul(tf.matmul(X1, khatrirao_product(C, A)), \n",
    "                      tf.multiply(tf.matmul(tf.transpose(C), C), tf.matmul(tf.transpose(A), A)))\n",
    "        C = tf.matmul(tf.matmul(X2, khatrirao_product(B, A)), \n",
    "                      tf.multiply(tf.matmul(tf.transpose(B), B), tf.matmul(tf.transpose(A), A)))\n",
    "        \n",
    "    init = tf.global_variables_initializer()\n",
    "    \n",
    "    sess = tf.Session()\n",
    "    sess.run(init)\n",
    "    \n",
    "    return sess.run((A, B, C), feed_dict={X: x})"
   ]
  },
  {
   "cell_type": "markdown",
   "metadata": {},
   "source": [
    "# Test: Method 1"
   ]
  },
  {
   "cell_type": "code",
   "execution_count": 5,
   "metadata": {
    "collapsed": true
   },
   "outputs": [],
   "source": [
    "x1 = np.array([[1, 4, 7, 10], [2, 5, 8, 11], [3, 6, 9, 12]], dtype=np.float32)\n",
    "x2 = np.array([[13, 16, 19, 22], [14, 17, 20, 23], [15, 18, 21, 24]], dtype=np.float32)\n",
    "x = np.zeros((3, 4, 2))\n",
    "x[:, :, 0] = x1\n",
    "x[:, :, 1] = x2"
   ]
  },
  {
   "cell_type": "code",
   "execution_count": 6,
   "metadata": {
    "collapsed": true
   },
   "outputs": [],
   "source": [
    "A, B, C = rank3tensor_decomposition_ALS(x, k=5, nbiter=10000)"
   ]
  },
  {
   "cell_type": "code",
   "execution_count": 7,
   "metadata": {
    "collapsed": true
   },
   "outputs": [],
   "source": [
    "mat = np.zeros((A.shape[0], B.shape[0], C.shape[0]))"
   ]
  },
  {
   "cell_type": "code",
   "execution_count": 8,
   "metadata": {
    "collapsed": false
   },
   "outputs": [],
   "source": [
    "from itertools import product\n",
    "\n",
    "for i, j, k in product(range(A.shape[0]), range(B.shape[0]), range(C.shape[0])):\n",
    "    mat[i, j, k] = sum(A[i, alpha]*B[j, alpha]*C[k, alpha] for alpha in range(5))"
   ]
  },
  {
   "cell_type": "code",
   "execution_count": 9,
   "metadata": {
    "collapsed": false
   },
   "outputs": [
    {
     "data": {
      "text/plain": [
       "array([[[ 1.4840956 , 14.81542093],\n",
       "        [ 4.03926674, 16.54217708],\n",
       "        [ 7.51586095, 19.98188126],\n",
       "        [ 8.6932199 , 20.91238475]],\n",
       "\n",
       "       [[ 2.55345427, 15.31148604],\n",
       "        [ 3.78485732, 15.52706909],\n",
       "        [ 8.19020149, 19.96129751],\n",
       "        [ 9.95800454, 21.04517984]],\n",
       "\n",
       "       [[ 3.4563559 , 16.22834317],\n",
       "        [ 4.95387781, 16.74170446],\n",
       "        [ 7.22126658, 18.67638087],\n",
       "        [10.69535763, 21.62662816]]])"
      ]
     },
     "execution_count": 9,
     "metadata": {},
     "output_type": "execute_result"
    }
   ],
   "source": [
    "mat"
   ]
  },
  {
   "cell_type": "code",
   "execution_count": 10,
   "metadata": {
    "collapsed": false
   },
   "outputs": [
    {
     "data": {
      "text/plain": [
       "array([[[ 1., 13.],\n",
       "        [ 4., 16.],\n",
       "        [ 7., 19.],\n",
       "        [10., 22.]],\n",
       "\n",
       "       [[ 2., 14.],\n",
       "        [ 5., 17.],\n",
       "        [ 8., 20.],\n",
       "        [11., 23.]],\n",
       "\n",
       "       [[ 3., 15.],\n",
       "        [ 6., 18.],\n",
       "        [ 9., 21.],\n",
       "        [12., 24.]]])"
      ]
     },
     "execution_count": 10,
     "metadata": {},
     "output_type": "execute_result"
    }
   ],
   "source": [
    "x"
   ]
  },
  {
   "cell_type": "markdown",
   "metadata": {
    "collapsed": true
   },
   "source": [
    "# Method 2"
   ]
  },
  {
   "cell_type": "code",
   "execution_count": 23,
   "metadata": {
    "collapsed": false
   },
   "outputs": [],
   "source": [
    "A, B, C = rank3tensor_decomposition_ALS_closed(x, k=5, nbiter=1)"
   ]
  },
  {
   "cell_type": "code",
   "execution_count": 24,
   "metadata": {
    "collapsed": true
   },
   "outputs": [],
   "source": [
    "mat = np.zeros((A.shape[0], B.shape[0], C.shape[0]))"
   ]
  },
  {
   "cell_type": "code",
   "execution_count": 25,
   "metadata": {
    "collapsed": true
   },
   "outputs": [],
   "source": [
    "from itertools import product\n",
    "\n",
    "for i, j, k in product(range(A.shape[0]), range(B.shape[0]), range(C.shape[0])):\n",
    "    mat[i, j, k] = sum(A[i, alpha]*B[j, alpha]*C[k, alpha] for alpha in range(5))"
   ]
  },
  {
   "cell_type": "code",
   "execution_count": 26,
   "metadata": {
    "collapsed": false
   },
   "outputs": [
    {
     "data": {
      "text/plain": [
       "array([[[inf, inf],\n",
       "        [inf, inf],\n",
       "        [inf, inf],\n",
       "        [inf, inf]],\n",
       "\n",
       "       [[inf, inf],\n",
       "        [inf, inf],\n",
       "        [inf, inf],\n",
       "        [inf, inf]],\n",
       "\n",
       "       [[inf, inf],\n",
       "        [inf, inf],\n",
       "        [inf, inf],\n",
       "        [inf, inf]]])"
      ]
     },
     "execution_count": 26,
     "metadata": {},
     "output_type": "execute_result"
    }
   ],
   "source": [
    "mat"
   ]
  },
  {
   "cell_type": "code",
   "execution_count": 27,
   "metadata": {
    "collapsed": false
   },
   "outputs": [
    {
     "data": {
      "text/plain": [
       "array([[[ 1., 13.],\n",
       "        [ 4., 16.],\n",
       "        [ 7., 19.],\n",
       "        [10., 22.]],\n",
       "\n",
       "       [[ 2., 14.],\n",
       "        [ 5., 17.],\n",
       "        [ 8., 20.],\n",
       "        [11., 23.]],\n",
       "\n",
       "       [[ 3., 15.],\n",
       "        [ 6., 18.],\n",
       "        [ 9., 21.],\n",
       "        [12., 24.]]])"
      ]
     },
     "execution_count": 27,
     "metadata": {},
     "output_type": "execute_result"
    }
   ],
   "source": [
    "x"
   ]
  },
  {
   "cell_type": "code",
   "execution_count": 28,
   "metadata": {
    "collapsed": false
   },
   "outputs": [
    {
     "data": {
      "text/plain": [
       "(array([[3901.4683 , -386.7866 , 1401.9554 , -863.4341 , -636.5982 ],\n",
       "        [4040.54   , -392.85498, 1454.3479 , -894.6831 , -660.776  ],\n",
       "        [4179.613  , -398.9236 , 1506.7405 , -925.93225, -684.954  ]],\n",
       "       dtype=float32),\n",
       " array([[-5.6039290e+13, -3.8981507e+12, -1.0287092e+13,  6.6330978e+12,\n",
       "         -1.2510161e+13],\n",
       "        [-6.2633915e+13, -4.3382163e+12, -1.1516337e+13,  7.4340243e+12,\n",
       "         -1.3974681e+13],\n",
       "        [-6.9228535e+13, -4.7782811e+12, -1.2745585e+13,  8.2349512e+12,\n",
       "         -1.5439199e+13],\n",
       "        [-7.5823160e+13, -5.2183465e+12, -1.3974832e+13,  9.0358772e+12,\n",
       "         -1.6903720e+13]], dtype=float32),\n",
       " array([[-inf,  inf, -inf, -inf,  inf],\n",
       "        [-inf,  inf, -inf, -inf,  inf]], dtype=float32))"
      ]
     },
     "execution_count": 28,
     "metadata": {},
     "output_type": "execute_result"
    }
   ],
   "source": [
    "A, B, C"
   ]
  },
  {
   "cell_type": "code",
   "execution_count": null,
   "metadata": {
    "collapsed": true
   },
   "outputs": [],
   "source": []
  }
 ],
 "metadata": {
  "kernelspec": {
   "display_name": "Python 3",
   "language": "python",
   "name": "python3"
  },
  "language_info": {
   "codemirror_mode": {
    "name": "ipython",
    "version": 3
   },
   "file_extension": ".py",
   "mimetype": "text/x-python",
   "name": "python",
   "nbconvert_exporter": "python",
   "pygments_lexer": "ipython3",
   "version": "3.6.7"
  }
 },
 "nbformat": 4,
 "nbformat_minor": 2
}
