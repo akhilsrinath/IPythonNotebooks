{
 "cells": [
  {
   "cell_type": "code",
   "execution_count": 1,
   "metadata": {},
   "outputs": [],
   "source": [
    "import numpy as np\n",
    "import tensorflow as tf"
   ]
  },
  {
   "cell_type": "code",
   "execution_count": 2,
   "metadata": {},
   "outputs": [],
   "source": [
    "def khatrirao_product(tensor1, tensor2):\n",
    "    i0 = tf.constant(1)\n",
    "    prod0 = tf.multiply(tensor1[0, :], tensor2)\n",
    "    _, khprod = tf.while_loop(lambda i, m: tf.less(i, tf.shape(tensor1)[0]),\n",
    "                              lambda i, m: [i+1, tf.concat([m, tf.multiply(tensor1[i, :], tensor2)], 0)],\n",
    "                              loop_vars=[i0, prod0],\n",
    "                              shape_invariants=[i0.get_shape(), tf.TensorShape([None, None])])\n",
    "    return khprod"
   ]
  },
  {
   "cell_type": "code",
   "execution_count": 3,
   "metadata": {},
   "outputs": [],
   "source": [
    "def rank3tensor_decomposition_ALS(matrix, k, alpha=0.01, nbiter=1000):\n",
    "    dim0, dim1, dim2 = matrix.shape\n",
    "\n",
    "    #X = tf.placeholder(tf.float32, shape=(None, None, None), name='X')\n",
    "    #X_shape = tf.shape(X)\n",
    "    #Xdim0, Xdim1, Xdim2 = X_shape[0], X_shape[1], X_shape[2]\n",
    "    X = tf.placeholder(tf.float32, shape=(dim0, dim1, dim2), name='X')\n",
    "    \n",
    "    X0 = tf.reshape(tf.transpose(X, perm=(0, 2, 1)), shape=(dim0, dim1*dim2))\n",
    "    X1 = tf.reshape(tf.transpose(X, perm=(1, 2, 0)), shape=(dim1, dim0*dim2))\n",
    "    X2 = tf.reshape(tf.transpose(X, perm=(2, 0, 1)), shape=(dim2, dim0*dim1))\n",
    "    \n",
    "    A = tf.Variable(initial_value=tf.random_normal([dim0, k]), name='A')\n",
    "    B = tf.Variable(initial_value=tf.random_normal([dim1, k]), name='B')\n",
    "    C = tf.Variable(initial_value=tf.random_normal([dim2, k]), name='C')\n",
    "\n",
    "    costA = tf.reduce_sum(tf.abs(X0 - tf.matmul(A, tf.transpose(khatrirao_product(C, B)))))\n",
    "    costB = tf.reduce_sum(tf.abs(X1 - tf.matmul(B, tf.transpose(khatrirao_product(C, A)))))\n",
    "    costC = tf.reduce_sum(tf.abs(X2 - tf.matmul(C, tf.transpose(khatrirao_product(B, A)))))\n",
    "    \n",
    "    trainA = tf.train.GradientDescentOptimizer(alpha).minimize(costA)\n",
    "    trainB = tf.train.GradientDescentOptimizer(alpha).minimize(costB)\n",
    "    trainC = tf.train.GradientDescentOptimizer(alpha).minimize(costC)\n",
    "    \n",
    "    init = tf.global_variables_initializer()\n",
    "    \n",
    "    sess = tf.Session()\n",
    "    sess.run(init)\n",
    "\n",
    "    for _ in range(nbiter):\n",
    "        sess.run(trainA, feed_dict={X: matrix})\n",
    "        sess.run(trainB, feed_dict={X: matrix})\n",
    "        sess.run(trainC, feed_dict={X: matrix})\n",
    "\n",
    "    return sess.run((A, B, C), feed_dict={X: matrix})"
   ]
  },
  {
   "cell_type": "code",
   "execution_count": 4,
   "metadata": {},
   "outputs": [],
   "source": [
    "def rank3tensor_decomposition_ALS_closed(matrix, k, nbiter=1000):\n",
    "    dim0, dim1, dim2 = matrix.shape\n",
    "\n",
    "    #X = tf.placeholder(tf.float32, shape=(None, None, None), name='X')\n",
    "    #X_shape = tf.shape(X)\n",
    "    #Xdim0, Xdim1, Xdim2 = X_shape[0], X_shape[1], X_shape[2]\n",
    "    X = tf.placeholder(tf.float32, shape=(dim0, dim1, dim2), name='X')\n",
    "    \n",
    "    X0 = tf.reshape(tf.transpose(X, perm=(0, 2, 1)), shape=(dim0, dim1*dim2))\n",
    "    X1 = tf.reshape(tf.transpose(X, perm=(1, 2, 0)), shape=(dim1, dim0*dim2))\n",
    "    X2 = tf.reshape(tf.transpose(X, perm=(2, 0, 1)), shape=(dim2, dim0*dim1))\n",
    "    \n",
    "    A = tf.Variable(initial_value=tf.random_normal([dim0, k]), name='A')\n",
    "    B = tf.Variable(initial_value=tf.random_normal([dim1, k]), name='B')\n",
    "    C = tf.Variable(initial_value=tf.random_normal([dim2, k]), name='C')\n",
    "\n",
    "    for _ in range(nbiter):\n",
    "        A = tf.matmul(tf.matmul(X0, khatrirao_product(C, B)), \n",
    "                      tf.multiply(tf.matmul(tf.transpose(C), C), tf.matmul(tf.transpose(B), B)))\n",
    "        B = tf.matmul(tf.matmul(X1, khatrirao_product(C, A)), \n",
    "                      tf.multiply(tf.matmul(tf.transpose(C), C), tf.matmul(tf.transpose(A), A)))\n",
    "        C = tf.matmul(tf.matmul(X2, khatrirao_product(B, A)), \n",
    "                      tf.multiply(tf.matmul(tf.transpose(B), B), tf.matmul(tf.transpose(A), A)))\n",
    "        \n",
    "    init = tf.global_variables_initializer()\n",
    "    \n",
    "    sess = tf.Session()\n",
    "    sess.run(init)\n",
    "    \n",
    "    return sess.run((A, B, C), feed_dict={X: matrix})"
   ]
  },
  {
   "cell_type": "markdown",
   "metadata": {},
   "source": [
    "# Test: Method 1"
   ]
  },
  {
   "cell_type": "code",
   "execution_count": 18,
   "metadata": {},
   "outputs": [],
   "source": [
    "# x1 = np.array([[1, 4, 7, 10], [2, 5, 8, 11], [3, 6, 9, 12]], dtype=np.float32)\n",
    "# x2 = np.array([[13, 16, 19, 22], [14, 17, 20, 23], [15, 18, 21, 24]], dtype=np.float32)\n",
    "# x = np.zeros((3, 4, 2))\n",
    "# x[:, :, 0] = x1\n",
    "# x[:, :, 1] = x2\n",
    "x1 = np.array([[1, 0], [0, 1]], dtype=np.float32)\n",
    "x2 = np.array([[0, -1], [1, 0]], dtype=np.float32)\n",
    "x = np.zeros((2, 2, 2))\n",
    "x[:, :, 0] = x1\n",
    "x[:, :, 1] = x2"
   ]
  },
  {
   "cell_type": "code",
   "execution_count": 25,
   "metadata": {},
   "outputs": [],
   "source": [
    "A, B, C = rank3tensor_decomposition_ALS(x, k=2, nbiter=5000)"
   ]
  },
  {
   "cell_type": "code",
   "execution_count": 26,
   "metadata": {},
   "outputs": [],
   "source": [
    "mat = np.zeros((A.shape[0], B.shape[0], C.shape[0]))"
   ]
  },
  {
   "cell_type": "code",
   "execution_count": 27,
   "metadata": {
    "collapsed": false,
    "jupyter": {
     "outputs_hidden": false
    }
   },
   "outputs": [],
   "source": [
    "from itertools import product\n",
    "\n",
    "for i, j, k in product(range(A.shape[0]), range(B.shape[0]), range(C.shape[0])):\n",
    "    mat[i, j, k] = sum(A[i, alpha]*B[j, alpha]*C[k, alpha] for alpha in range(2))"
   ]
  },
  {
   "cell_type": "code",
   "execution_count": 28,
   "metadata": {
    "collapsed": false,
    "jupyter": {
     "outputs_hidden": false
    }
   },
   "outputs": [
    {
     "data": {
      "text/plain": [
       "array([[[ 1.01805404e+00,  7.60583447e-04],\n",
       "        [ 9.47989523e-03, -5.19108173e-04]],\n",
       "\n",
       "       [[ 1.36210471e-02, -5.81914122e-04],\n",
       "        [ 9.80289966e-01, -2.32521363e-03]]])"
      ]
     },
     "execution_count": 28,
     "metadata": {},
     "output_type": "execute_result"
    }
   ],
   "source": [
    "mat"
   ]
  },
  {
   "cell_type": "code",
   "execution_count": 29,
   "metadata": {
    "collapsed": false,
    "jupyter": {
     "outputs_hidden": false
    }
   },
   "outputs": [
    {
     "data": {
      "text/plain": [
       "array([[[ 1.,  0.],\n",
       "        [ 0., -1.]],\n",
       "\n",
       "       [[ 0.,  1.],\n",
       "        [ 1.,  0.]]])"
      ]
     },
     "execution_count": 29,
     "metadata": {},
     "output_type": "execute_result"
    }
   ],
   "source": [
    "x"
   ]
  },
  {
   "cell_type": "markdown",
   "metadata": {},
   "source": [
    "# Method 2"
   ]
  },
  {
   "cell_type": "code",
   "execution_count": 30,
   "metadata": {
    "collapsed": false,
    "jupyter": {
     "outputs_hidden": false
    }
   },
   "outputs": [],
   "source": [
    "A, B, C = rank3tensor_decomposition_ALS_closed(x, k=5, nbiter=1)"
   ]
  },
  {
   "cell_type": "code",
   "execution_count": 31,
   "metadata": {},
   "outputs": [],
   "source": [
    "mat = np.zeros((A.shape[0], B.shape[0], C.shape[0]))"
   ]
  },
  {
   "cell_type": "code",
   "execution_count": 32,
   "metadata": {},
   "outputs": [],
   "source": [
    "from itertools import product\n",
    "\n",
    "for i, j, k in product(range(A.shape[0]), range(B.shape[0]), range(C.shape[0])):\n",
    "    mat[i, j, k] = sum(A[i, alpha]*B[j, alpha]*C[k, alpha] for alpha in range(5))"
   ]
  },
  {
   "cell_type": "code",
   "execution_count": 33,
   "metadata": {
    "collapsed": false,
    "jupyter": {
     "outputs_hidden": false
    }
   },
   "outputs": [
    {
     "data": {
      "text/plain": [
       "array([[[2.70355315e+21, 8.37888282e+20],\n",
       "        [7.44855732e+22, 2.30846531e+22]],\n",
       "\n",
       "       [[7.71701398e+21, 2.39166573e+21],\n",
       "        [2.12733711e+23, 6.59306752e+22]]])"
      ]
     },
     "execution_count": 33,
     "metadata": {},
     "output_type": "execute_result"
    }
   ],
   "source": [
    "mat"
   ]
  },
  {
   "cell_type": "code",
   "execution_count": 34,
   "metadata": {
    "collapsed": false,
    "jupyter": {
     "outputs_hidden": false
    }
   },
   "outputs": [
    {
     "data": {
      "text/plain": [
       "array([[[ 1.,  0.],\n",
       "        [ 0., -1.]],\n",
       "\n",
       "       [[ 0.,  1.],\n",
       "        [ 1.,  0.]]])"
      ]
     },
     "execution_count": 34,
     "metadata": {},
     "output_type": "execute_result"
    }
   ],
   "source": [
    "x"
   ]
  },
  {
   "cell_type": "code",
   "execution_count": 35,
   "metadata": {
    "collapsed": false,
    "jupyter": {
     "outputs_hidden": false
    }
   },
   "outputs": [
    {
     "data": {
      "text/plain": [
       "(array([[-0.39003256,  0.6316668 , -1.2086369 ,  5.3018904 , -0.37994573],\n",
       "        [ 2.8968601 ,  3.1896248 , -4.087788  , 15.135282  , -1.0436755 ]],\n",
       "       dtype=float32),\n",
       " array([[ 1.3073799e+02, -2.3024108e+00, -1.6739840e+01, -1.5776406e+03,\n",
       "         -7.3333824e+01],\n",
       "        [-1.5086838e+03,  2.7211609e+03, -7.6572314e+03, -4.3386832e+04,\n",
       "         -1.4674852e+03]], dtype=float32),\n",
       " array([[-1.81740212e+15,  4.06312281e+15,  1.51230705e+16,\n",
       "         -3.23168939e+17,  7.57342522e+14],\n",
       "        [-5.63239998e+14,  1.25924052e+15,  4.68694910e+15,\n",
       "         -1.00156885e+17,  2.34716557e+14]], dtype=float32))"
      ]
     },
     "execution_count": 35,
     "metadata": {},
     "output_type": "execute_result"
    }
   ],
   "source": [
    "A, B, C"
   ]
  },
  {
   "cell_type": "code",
   "execution_count": null,
   "metadata": {
    "collapsed": true,
    "jupyter": {
     "outputs_hidden": true
    }
   },
   "outputs": [],
   "source": []
  },
  {
   "cell_type": "code",
   "execution_count": null,
   "metadata": {},
   "outputs": [],
   "source": []
  }
 ],
 "metadata": {
  "kernelspec": {
   "display_name": "Python 3",
   "language": "python",
   "name": "python3"
  },
  "language_info": {
   "codemirror_mode": {
    "name": "ipython",
    "version": 3
   },
   "file_extension": ".py",
   "mimetype": "text/x-python",
   "name": "python",
   "nbconvert_exporter": "python",
   "pygments_lexer": "ipython3",
   "version": "3.6.7"
  }
 },
 "nbformat": 4,
 "nbformat_minor": 4
}
