{
 "cells": [
  {
   "cell_type": "code",
   "execution_count": 1,
   "metadata": {},
   "outputs": [],
   "source": [
    "import numpy as np\n",
    "import tensorflow as tf\n",
    "from itertools import product\n",
    "import random\n",
    "#import tfnumpy as tfnp"
   ]
  },
  {
   "cell_type": "code",
   "execution_count": 2,
   "metadata": {},
   "outputs": [],
   "source": [
    "x1 = np.array([[1, 0], [0, 1], [2, -1.4]], dtype=np.float32)\n",
    "x2 = np.array([[0, -1], [1, 0], [-1.5, 0.6]], dtype=np.float32)\n",
    "x = np.zeros((3, 2, 2))\n",
    "x[:, :, 0] = x1\n",
    "x[:, :, 1] = x2"
   ]
  },
  {
   "cell_type": "markdown",
   "metadata": {},
   "source": [
    "# Using numpy first"
   ]
  },
  {
   "cell_type": "code",
   "execution_count": 3,
   "metadata": {},
   "outputs": [],
   "source": [
    "a = np.random.uniform(size=x.shape[2])\n",
    "b = np.random.uniform(size=x.shape[2])"
   ]
  },
  {
   "cell_type": "code",
   "execution_count": 4,
   "metadata": {},
   "outputs": [
    {
     "data": {
      "text/plain": [
       "array([[ 0.11478091, -0.70786967],\n",
       "       [ 0.70786967,  0.11478091],\n",
       "       [-0.83224269,  0.26402855]])"
      ]
     },
     "execution_count": 4,
     "metadata": {},
     "output_type": "execute_result"
    }
   ],
   "source": [
    "x[:, :, 0]*a[0]+x[:, :, 1]*a[1]"
   ]
  },
  {
   "cell_type": "code",
   "execution_count": 5,
   "metadata": {},
   "outputs": [
    {
     "data": {
      "text/plain": [
       "array([[ 0.11478091, -0.70786967],\n",
       "       [ 0.70786967,  0.11478091],\n",
       "       [-0.83224269,  0.26402855]])"
      ]
     },
     "execution_count": 5,
     "metadata": {},
     "output_type": "execute_result"
    }
   ],
   "source": [
    "Ta = sum(x[:, :, i]*a[i] for i in range(x.shape[2]))\n",
    "Ta"
   ]
  },
  {
   "cell_type": "code",
   "execution_count": 6,
   "metadata": {},
   "outputs": [
    {
     "data": {
      "text/plain": [
       "array([[ 0.51066343, -0.74293773],\n",
       "       [ 0.74293773,  0.51066343],\n",
       "       [-0.09307973, -0.26916614]])"
      ]
     },
     "execution_count": 6,
     "metadata": {},
     "output_type": "execute_result"
    }
   ],
   "source": [
    "Tb = sum(x[:, :, i]*b[i] for i in range(x.shape[2]))\n",
    "Tb"
   ]
  },
  {
   "cell_type": "code",
   "execution_count": 7,
   "metadata": {},
   "outputs": [],
   "source": [
    "eigvals_u, eigvecs_u = np.linalg.eig(np.matmul(Ta, np.linalg.pinv(Tb)))"
   ]
  },
  {
   "cell_type": "code",
   "execution_count": 18,
   "metadata": {},
   "outputs": [],
   "source": [
    "eigvals_v, eigvecs_v = np.linalg.eig(np.transpose(np.matmul(np.linalg.pinv(Ta), Tb)))"
   ]
  },
  {
   "cell_type": "code",
   "execution_count": 19,
   "metadata": {},
   "outputs": [
    {
     "data": {
      "text/plain": [
       "array([6.90145247e-01+0.44574518j, 6.90145247e-01-0.44574518j,\n",
       "       7.40413414e-17+0.j        ])"
      ]
     },
     "execution_count": 19,
     "metadata": {},
     "output_type": "execute_result"
    }
   ],
   "source": [
    "eigvals_u"
   ]
  },
  {
   "cell_type": "code",
   "execution_count": 20,
   "metadata": {},
   "outputs": [
    {
     "data": {
      "text/plain": [
       "array([0.79975795+0.3275891j, 0.79975795-0.3275891j])"
      ]
     },
     "execution_count": 20,
     "metadata": {},
     "output_type": "execute_result"
    }
   ],
   "source": [
    "eigvals_v"
   ]
  },
  {
   "cell_type": "code",
   "execution_count": 25,
   "metadata": {},
   "outputs": [
    {
     "data": {
      "text/plain": [
       "array([[ 0.96801155,  0.04335439,  0.17054498],\n",
       "       [ 0.04335439,  0.94124119, -0.23114196],\n",
       "       [ 0.17054498, -0.23114196,  0.09074726]])"
      ]
     },
     "execution_count": 25,
     "metadata": {},
     "output_type": "execute_result"
    }
   ],
   "source": [
    "np.matmul(Tb, np.linalg.pinv(Tb))"
   ]
  },
  {
   "cell_type": "code",
   "execution_count": 12,
   "metadata": {},
   "outputs": [
    {
     "data": {
      "text/plain": [
       "[]"
      ]
     },
     "execution_count": 12,
     "metadata": {},
     "output_type": "execute_result"
    }
   ],
   "source": [
    "# pair up eigenvalues of Ta and Tb\n",
    "idx_pairs = []\n",
    "tol = 1e-5\n",
    "\n",
    "for i, eigval_u in enumerate(eigvals_u):\n",
    "    for j, eigval_v in enumerate(eigvals_v):\n",
    "        if abs(eigval_u - 1/eigval_v) < tol:\n",
    "            idx_pairs += [(i, j)]\n",
    "            break\n",
    "\n",
    "idx_pairs"
   ]
  },
  {
   "cell_type": "code",
   "execution_count": 14,
   "metadata": {},
   "outputs": [],
   "source": [
    "nbcomp = len(idx_pairs)\n",
    "A = np.zeros((nbcomp*x.shape[2], nbcomp*x.shape[2]))\n",
    "B = np.zeros(nbcomp*x.shape[2])\n",
    "eqidx = 0\n",
    "for k in range(x.shape[2]):\n",
    "    for i, j in random.choices(list(product(range(x.shape[0]), range(x.shape[1]))), k=nbcomp):\n",
    "        #print(\"{} {} {}\".format(i, j, k))\n",
    "        B[eqidx] = x[i, j, k]\n",
    "        for ck in range(nbcomp):\n",
    "            A[eqidx, ck*nbcomp+k] = eigvecs_u[idx_pairs[ck][0], i]*eigvecs_v[idx_pairs[ck][1], j]\n",
    "        eqidx += 1"
   ]
  },
  {
   "cell_type": "code",
   "execution_count": 17,
   "metadata": {},
   "outputs": [
    {
     "data": {
      "text/plain": [
       "array([ 5.46398458, -1.25720609, -3.21753026,  4.2376251 ])"
      ]
     },
     "execution_count": 17,
     "metadata": {},
     "output_type": "execute_result"
    }
   ],
   "source": [
    "sol = np.linalg.solve(A, B)\n",
    "sol"
   ]
  },
  {
   "cell_type": "code",
   "execution_count": 20,
   "metadata": {},
   "outputs": [
    {
     "data": {
      "text/plain": [
       "array([[ 5.46398458, -3.21753026],\n",
       "       [-1.25720609,  4.2376251 ]])"
      ]
     },
     "execution_count": 20,
     "metadata": {},
     "output_type": "execute_result"
    }
   ],
   "source": [
    "eigvecs_w = sol.reshape((nbcomp, x.shape[2]), order='F')\n",
    "eigvecs_w"
   ]
  },
  {
   "cell_type": "code",
   "execution_count": 34,
   "metadata": {},
   "outputs": [],
   "source": [
    "# verfication\n",
    "xh = np.zeros(x.shape)\n",
    "for i, j, k in product(range(x.shape[0]), range(x.shape[1]), range(x.shape[2])):\n",
    "    xh[i, j, k] = sum([eigvecs_u[alpha, i]*eigvecs_v[alpha, j]*eigvecs_w[alpha, k] for alpha in range(nbcomp)])"
   ]
  },
  {
   "cell_type": "code",
   "execution_count": 35,
   "metadata": {},
   "outputs": [
    {
     "data": {
      "text/plain": [
       "array([[[ 0.19853161, -1.5467626 ],\n",
       "        [-0.73690431,  2.76013739]],\n",
       "\n",
       "       [[ 2.38614556, -0.03303901],\n",
       "        [-0.10405237, -2.17092161]],\n",
       "\n",
       "       [[ 1.41715524, -1.87432896],\n",
       "        [-0.93658567,  2.24318313]]])"
      ]
     },
     "execution_count": 35,
     "metadata": {},
     "output_type": "execute_result"
    }
   ],
   "source": [
    "xh"
   ]
  },
  {
   "cell_type": "code",
   "execution_count": 36,
   "metadata": {},
   "outputs": [
    {
     "data": {
      "text/plain": [
       "array([[[ 1.        ,  0.        ],\n",
       "        [ 0.        , -1.        ]],\n",
       "\n",
       "       [[ 0.        ,  1.        ],\n",
       "        [ 1.        ,  0.        ]],\n",
       "\n",
       "       [[ 2.        , -1.5       ],\n",
       "        [-1.39999998,  0.60000002]]])"
      ]
     },
     "execution_count": 36,
     "metadata": {},
     "output_type": "execute_result"
    }
   ],
   "source": [
    "x"
   ]
  },
  {
   "cell_type": "code",
   "execution_count": null,
   "metadata": {},
   "outputs": [],
   "source": []
  }
 ],
 "metadata": {
  "kernelspec": {
   "display_name": "Python 3",
   "language": "python",
   "name": "python3"
  },
  "language_info": {
   "codemirror_mode": {
    "name": "ipython",
    "version": 3
   },
   "file_extension": ".py",
   "mimetype": "text/x-python",
   "name": "python",
   "nbconvert_exporter": "python",
   "pygments_lexer": "ipython3",
   "version": "3.6.7"
  }
 },
 "nbformat": 4,
 "nbformat_minor": 4
}
