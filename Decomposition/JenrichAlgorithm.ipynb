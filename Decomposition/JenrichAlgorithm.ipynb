{
 "cells": [
  {
   "cell_type": "code",
   "execution_count": 1,
   "metadata": {},
   "outputs": [],
   "source": [
    "import numpy as np\n",
    "import tensorflow as tf\n",
    "import tfnumpy as tfnp"
   ]
  },
  {
   "cell_type": "code",
   "execution_count": 15,
   "metadata": {},
   "outputs": [],
   "source": [
    "from itertools import product\n",
    "import random"
   ]
  },
  {
   "cell_type": "code",
   "execution_count": 2,
   "metadata": {},
   "outputs": [],
   "source": [
    "x1 = np.array([[1, 0], [0, 1], [2, -1.4]], dtype=np.float32)\n",
    "x2 = np.array([[0, -1], [1, 0], [-1.5, 0.6]], dtype=np.float32)\n",
    "x = np.zeros((3, 2, 2))\n",
    "x[:, :, 0] = x1\n",
    "x[:, :, 1] = x2"
   ]
  },
  {
   "cell_type": "markdown",
   "metadata": {},
   "source": [
    "# Using numpy first"
   ]
  },
  {
   "cell_type": "code",
   "execution_count": 3,
   "metadata": {},
   "outputs": [],
   "source": [
    "a = np.random.uniform(size=x.shape[2])\n",
    "b = np.random.uniform(size=x.shape[2])"
   ]
  },
  {
   "cell_type": "code",
   "execution_count": 4,
   "metadata": {},
   "outputs": [
    {
     "data": {
      "text/plain": [
       "array([[ 0.12972818, -0.43167692],\n",
       "       [ 0.43167692,  0.12972818],\n",
       "       [-0.38805902,  0.07738671]])"
      ]
     },
     "execution_count": 4,
     "metadata": {},
     "output_type": "execute_result"
    }
   ],
   "source": [
    "x[:, :, 0]*a[0]+x[:, :, 1]*a[1]"
   ]
  },
  {
   "cell_type": "code",
   "execution_count": 5,
   "metadata": {},
   "outputs": [
    {
     "data": {
      "text/plain": [
       "array([[ 0.12972818, -0.43167692],\n",
       "       [ 0.43167692,  0.12972818],\n",
       "       [-0.38805902,  0.07738671]])"
      ]
     },
     "execution_count": 5,
     "metadata": {},
     "output_type": "execute_result"
    }
   ],
   "source": [
    "Ta = sum(x[:, :, i]*a[i] for i in range(x.shape[2]))\n",
    "Ta"
   ]
  },
  {
   "cell_type": "code",
   "execution_count": 6,
   "metadata": {},
   "outputs": [
    {
     "data": {
      "text/plain": [
       "array([[ 0.02117039, -0.48500233],\n",
       "       [ 0.48500233,  0.02117039],\n",
       "       [-0.68516272,  0.26136287]])"
      ]
     },
     "execution_count": 6,
     "metadata": {},
     "output_type": "execute_result"
    }
   ],
   "source": [
    "Tb = sum(x[:, :, i]*b[i] for i in range(x.shape[2]))\n",
    "Tb"
   ]
  },
  {
   "cell_type": "code",
   "execution_count": 7,
   "metadata": {},
   "outputs": [],
   "source": [
    "eigvals_a, eigvecs_a = np.linalg.eig(np.matmul(Ta, np.conjugate(Tb.T)))"
   ]
  },
  {
   "cell_type": "code",
   "execution_count": 8,
   "metadata": {},
   "outputs": [],
   "source": [
    "eigvals_b, eigvecs_b = np.linalg.eig(np.conjugate(np.transpose(np.matmul(np.conjugate(Tb.T), Ta))))"
   ]
  },
  {
   "cell_type": "code",
   "execution_count": 9,
   "metadata": {},
   "outputs": [
    {
     "data": {
      "text/plain": [
       "array([-2.77555756e-17,  2.32816056e-01,  4.77514952e-01])"
      ]
     },
     "execution_count": 9,
     "metadata": {},
     "output_type": "execute_result"
    }
   ],
   "source": [
    "eigvals_a"
   ]
  },
  {
   "cell_type": "code",
   "execution_count": 10,
   "metadata": {},
   "outputs": [
    {
     "data": {
      "text/plain": [
       "array([0.47751495, 0.23281606])"
      ]
     },
     "execution_count": 10,
     "metadata": {},
     "output_type": "execute_result"
    }
   ],
   "source": [
    "eigvals_b"
   ]
  },
  {
   "cell_type": "code",
   "execution_count": 11,
   "metadata": {},
   "outputs": [
    {
     "data": {
      "text/plain": [
       "[(1, 1), (2, 0)]"
      ]
     },
     "execution_count": 11,
     "metadata": {},
     "output_type": "execute_result"
    }
   ],
   "source": [
    "# pair up eigenvalues of Ta and Tb\n",
    "idx_pairs = []\n",
    "tol = 1e-5\n",
    "\n",
    "for i, eigval_a in enumerate(eigvals_a):\n",
    "    for j, eigval_b in enumerate(eigvals_b):\n",
    "        if abs(eigval_a - eigval_b) < tol:\n",
    "            idx_pairs += [(i, j)]\n",
    "            break\n",
    "\n",
    "idx_pairs"
   ]
  },
  {
   "cell_type": "code",
   "execution_count": 48,
   "metadata": {},
   "outputs": [
    {
     "name": "stdout",
     "output_type": "stream",
     "text": [
      "0 0 0\n",
      "2 0 0\n",
      "0 0 1\n",
      "0 1 1\n"
     ]
    }
   ],
   "source": [
    "nbcomp = len(idx_pairs)\n",
    "a = np.zeros((nbcomp*x.shape[2], nbcomp*x.shape[2]))\n",
    "b = np.zeros(nbcomp*x.shape[2])\n",
    "eqidx = 0\n",
    "for k in range(x.shape[2]):\n",
    "    for i, j in random.choices(list(product(range(x.shape[0]), range(x.shape[1]))), k=nbcomp):\n",
    "        #print(\"{} {} {}\".format(i, j, k))\n",
    "        b[eqidx] = x[i, j, k]\n",
    "        for ck in range(nbcomp):\n",
    "            a[eqidx, ck*nbcomp+k] = eigvecs_a[idx_pairs[ck][0], i]*eigvecs_b[idx_pairs[ck][1], j]\n",
    "        eqidx += 1"
   ]
  },
  {
   "cell_type": "code",
   "execution_count": 51,
   "metadata": {},
   "outputs": [
    {
     "data": {
      "text/plain": [
       "array([-7.35669573e+02,  1.54934845e+00,  1.33870024e+00, -6.63460273e-03])"
      ]
     },
     "execution_count": 51,
     "metadata": {},
     "output_type": "execute_result"
    }
   ],
   "source": [
    "np.linalg.solve(a, b)"
   ]
  },
  {
   "cell_type": "code",
   "execution_count": null,
   "metadata": {},
   "outputs": [],
   "source": []
  }
 ],
 "metadata": {
  "kernelspec": {
   "display_name": "Python 3",
   "language": "python",
   "name": "python3"
  },
  "language_info": {
   "codemirror_mode": {
    "name": "ipython",
    "version": 3
   },
   "file_extension": ".py",
   "mimetype": "text/x-python",
   "name": "python",
   "nbconvert_exporter": "python",
   "pygments_lexer": "ipython3",
   "version": "3.6.7"
  }
 },
 "nbformat": 4,
 "nbformat_minor": 4
}
