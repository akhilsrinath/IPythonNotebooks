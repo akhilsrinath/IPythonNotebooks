{
 "cells": [
  {
   "cell_type": "code",
   "execution_count": 1,
   "metadata": {},
   "outputs": [],
   "source": [
    "import numpy as np\n",
    "import tensorflow as tf\n",
    "from itertools import product\n",
    "import random\n",
    "#import tfnumpy as tfnp"
   ]
  },
  {
   "cell_type": "code",
   "execution_count": 62,
   "metadata": {},
   "outputs": [],
   "source": [
    "x1 = np.array([[-1.3, 1], [2, -1.4]], dtype=np.float32)\n",
    "x2 = np.array([[1, 0], [-1.5, 0.6]], dtype=np.float32)\n",
    "x = np.zeros((2, 2, 2))\n",
    "x[:, :, 0] = x1\n",
    "x[:, :, 1] = x2"
   ]
  },
  {
   "cell_type": "markdown",
   "metadata": {},
   "source": [
    "# Using numpy first"
   ]
  },
  {
   "cell_type": "code",
   "execution_count": 63,
   "metadata": {},
   "outputs": [],
   "source": [
    "a = np.random.uniform(size=x.shape[2])\n",
    "b = np.random.uniform(size=x.shape[2])"
   ]
  },
  {
   "cell_type": "code",
   "execution_count": 64,
   "metadata": {},
   "outputs": [
    {
     "data": {
      "text/plain": [
       "array([[-0.42662046,  0.43854062],\n",
       "       [ 0.66185775, -0.52786746]])"
      ]
     },
     "execution_count": 64,
     "metadata": {},
     "output_type": "execute_result"
    }
   ],
   "source": [
    "x[:, :, 0]*a[0]+x[:, :, 1]*a[1]"
   ]
  },
  {
   "cell_type": "code",
   "execution_count": 65,
   "metadata": {},
   "outputs": [
    {
     "data": {
      "text/plain": [
       "array([[-0.42662046,  0.43854062],\n",
       "       [ 0.66185775, -0.52786746]])"
      ]
     },
     "execution_count": 65,
     "metadata": {},
     "output_type": "execute_result"
    }
   ],
   "source": [
    "Ta = sum(x[:, :, i]*a[i] for i in range(x.shape[2]))\n",
    "Ta"
   ]
  },
  {
   "cell_type": "code",
   "execution_count": 66,
   "metadata": {},
   "outputs": [
    {
     "data": {
      "text/plain": [
       "array([[-0.55736387,  0.95288707],\n",
       "       [ 0.88369023, -0.92520829]])"
      ]
     },
     "execution_count": 66,
     "metadata": {},
     "output_type": "execute_result"
    }
   ],
   "source": [
    "Tb = sum(x[:, :, i]*b[i] for i in range(x.shape[2]))\n",
    "Tb"
   ]
  },
  {
   "cell_type": "code",
   "execution_count": 67,
   "metadata": {},
   "outputs": [],
   "source": [
    "eigvals_u, eigvecs_u = np.linalg.eig(np.matmul(Ta, np.linalg.pinv(Tb)))"
   ]
  },
  {
   "cell_type": "code",
   "execution_count": 68,
   "metadata": {},
   "outputs": [],
   "source": [
    "eigvals_v, eigvecs_v = np.linalg.eig(np.transpose(np.matmul(np.linalg.pinv(Ta), Tb)))"
   ]
  },
  {
   "cell_type": "code",
   "execution_count": 69,
   "metadata": {},
   "outputs": [
    {
     "data": {
      "text/plain": [
       "array([[-0.86234809,  0.54638519],\n",
       "       [ 0.50631588, -0.83753401]])"
      ]
     },
     "execution_count": 69,
     "metadata": {},
     "output_type": "execute_result"
    }
   ],
   "source": [
    "eigvecs_u"
   ]
  },
  {
   "cell_type": "code",
   "execution_count": 70,
   "metadata": {},
   "outputs": [
    {
     "data": {
      "text/plain": [
       "array([[-0.83565583, -0.05469079],\n",
       "       [ 0.54925344, -0.99850334]])"
      ]
     },
     "execution_count": 70,
     "metadata": {},
     "output_type": "execute_result"
    }
   ],
   "source": [
    "eigvecs_v"
   ]
  },
  {
   "cell_type": "code",
   "execution_count": 71,
   "metadata": {},
   "outputs": [
    {
     "data": {
      "text/plain": [
       "[(0, 1), (1, 0)]"
      ]
     },
     "execution_count": 71,
     "metadata": {},
     "output_type": "execute_result"
    }
   ],
   "source": [
    "# pair up eigenvalues of Ta and Tb\n",
    "idx_pairs = []\n",
    "tol = 1e-5\n",
    "\n",
    "for i, eigval_u in enumerate(eigvals_u):\n",
    "    for j, eigval_v in enumerate(eigvals_v):\n",
    "        if abs(eigval_u - 1/eigval_v) < tol:\n",
    "            idx_pairs += [(i, j)]\n",
    "            break\n",
    "\n",
    "idx_pairs"
   ]
  },
  {
   "cell_type": "code",
   "execution_count": 72,
   "metadata": {},
   "outputs": [],
   "source": [
    "nbcomp = len(idx_pairs)\n",
    "A = np.zeros((nbcomp*x.shape[2], nbcomp*x.shape[2]))\n",
    "B = np.zeros(nbcomp*x.shape[2])\n",
    "eqidx = 0\n",
    "for k in range(x.shape[2]):\n",
    "    for i, j in random.choices(list(product(range(x.shape[0]), range(x.shape[1]))), k=nbcomp):\n",
    "        #print(\"{} {} {}\".format(i, j, k))\n",
    "        B[eqidx] = x[i, j, k]\n",
    "        for ck in range(nbcomp):\n",
    "            A[eqidx, ck*x.shape[2]+k] = eigvecs_u[i, idx_pairs[ck][0]]*eigvecs_v[j, idx_pairs[ck][1]]\n",
    "        eqidx += 1"
   ]
  },
  {
   "cell_type": "code",
   "execution_count": 73,
   "metadata": {},
   "outputs": [
    {
     "data": {
      "text/plain": [
       "array([[ 0.0471625 ,  0.        , -0.45658997,  0.        ],\n",
       "       [-0.02769082,  0.        ,  0.69989018,  0.        ],\n",
       "       [ 0.        , -0.50555809,  0.        , -0.46001843],\n",
       "       [ 0.        , -0.02769082,  0.        ,  0.69989018]])"
      ]
     },
     "execution_count": 73,
     "metadata": {},
     "output_type": "execute_result"
    }
   ],
   "source": [
    "A"
   ]
  },
  {
   "cell_type": "code",
   "execution_count": 74,
   "metadata": {},
   "outputs": [
    {
     "data": {
      "text/plain": [
       "array([-1.29999995,  2.        ,  0.60000002, -1.5       ])"
      ]
     },
     "execution_count": 74,
     "metadata": {},
     "output_type": "execute_result"
    }
   ],
   "source": [
    "B"
   ]
  },
  {
   "cell_type": "code",
   "execution_count": 75,
   "metadata": {},
   "outputs": [
    {
     "data": {
      "text/plain": [
       "array([ 0.16315794,  0.73680606,  2.86404645, -2.11404201])"
      ]
     },
     "execution_count": 75,
     "metadata": {},
     "output_type": "execute_result"
    }
   ],
   "source": [
    "sol = np.linalg.solve(A, B)\n",
    "sol"
   ]
  },
  {
   "cell_type": "code",
   "execution_count": 76,
   "metadata": {},
   "outputs": [
    {
     "data": {
      "text/plain": [
       "array([[ 0.16315794,  2.86404645],\n",
       "       [ 0.73680606, -2.11404201]])"
      ]
     },
     "execution_count": 76,
     "metadata": {},
     "output_type": "execute_result"
    }
   ],
   "source": [
    "eigvecs_w = sol.reshape((nbcomp, x.shape[2]), order='F')\n",
    "eigvecs_w"
   ]
  },
  {
   "cell_type": "code",
   "execution_count": 77,
   "metadata": {},
   "outputs": [],
   "source": [
    "# verfication\n",
    "xh = np.zeros(x.shape)\n",
    "for i, j, k in product(range(x.shape[0]), range(x.shape[1]), range(x.shape[2])):\n",
    "    xh[i, j, k] = sum([eigvecs_u[i, alpha]*eigvecs_v[j, alpha]*eigvecs_w[k, alpha] for alpha in range(nbcomp)])"
   ]
  },
  {
   "cell_type": "code",
   "execution_count": 78,
   "metadata": {},
   "outputs": [
    {
     "data": {
      "text/plain": [
       "array([[[ 0.03199177,  0.59413407],\n",
       "        [-1.63980987,  0.80436603]],\n",
       "\n",
       "       [[ 0.06215571, -0.40858147],\n",
       "        [ 2.44051974, -1.5630295 ]]])"
      ]
     },
     "execution_count": 78,
     "metadata": {},
     "output_type": "execute_result"
    }
   ],
   "source": [
    "xh"
   ]
  },
  {
   "cell_type": "code",
   "execution_count": 79,
   "metadata": {},
   "outputs": [
    {
     "data": {
      "text/plain": [
       "array([[[-1.29999995,  1.        ],\n",
       "        [ 1.        ,  0.        ]],\n",
       "\n",
       "       [[ 2.        , -1.5       ],\n",
       "        [-1.39999998,  0.60000002]]])"
      ]
     },
     "execution_count": 79,
     "metadata": {},
     "output_type": "execute_result"
    }
   ],
   "source": [
    "x"
   ]
  },
  {
   "cell_type": "code",
   "execution_count": 32,
   "metadata": {},
   "outputs": [
    {
     "data": {
      "text/plain": [
       "array([[ 0.94285023, -0.36551167],\n",
       "       [-0.33321681,  0.93080676]])"
      ]
     },
     "execution_count": 32,
     "metadata": {},
     "output_type": "execute_result"
    }
   ],
   "source": [
    "eigvecs_u"
   ]
  },
  {
   "cell_type": "code",
   "execution_count": 33,
   "metadata": {},
   "outputs": [
    {
     "data": {
      "text/plain": [
       "array([[ 0.88601964,  0.86754559],\n",
       "       [-0.46364771,  0.49735766]])"
      ]
     },
     "execution_count": 33,
     "metadata": {},
     "output_type": "execute_result"
    }
   ],
   "source": [
    "eigvecs_v"
   ]
  },
  {
   "cell_type": "code",
   "execution_count": 34,
   "metadata": {},
   "outputs": [
    {
     "data": {
      "text/plain": [
       "array([[ 1.11486538,  2.81587164],\n",
       "       [ 0.58340104, -1.614319  ]])"
      ]
     },
     "execution_count": 34,
     "metadata": {},
     "output_type": "execute_result"
    }
   ],
   "source": [
    "eigvecs_w"
   ]
  },
  {
   "cell_type": "code",
   "execution_count": null,
   "metadata": {},
   "outputs": [],
   "source": []
  }
 ],
 "metadata": {
  "kernelspec": {
   "display_name": "Python 3",
   "language": "python",
   "name": "python3"
  },
  "language_info": {
   "codemirror_mode": {
    "name": "ipython",
    "version": 3
   },
   "file_extension": ".py",
   "mimetype": "text/x-python",
   "name": "python",
   "nbconvert_exporter": "python",
   "pygments_lexer": "ipython3",
   "version": "3.6.7"
  }
 },
 "nbformat": 4,
 "nbformat_minor": 4
}
