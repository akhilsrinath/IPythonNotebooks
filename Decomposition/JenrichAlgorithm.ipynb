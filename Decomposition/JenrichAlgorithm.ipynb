{
 "cells": [
  {
   "cell_type": "code",
   "execution_count": 1,
   "metadata": {},
   "outputs": [],
   "source": [
    "import numpy as np\n",
    "import tensorflow as tf\n",
    "import tfnumpy as tfnp"
   ]
  },
  {
   "cell_type": "code",
   "execution_count": 2,
   "metadata": {},
   "outputs": [],
   "source": [
    "x1 = np.array([[1, 0], [0, 1], [2, -1.4]], dtype=np.float32)\n",
    "x2 = np.array([[0, -1], [1, 0], [-1.5, 0.6]], dtype=np.float32)\n",
    "x = np.zeros((3, 2, 2))\n",
    "x[:, :, 0] = x1\n",
    "x[:, :, 1] = x2"
   ]
  },
  {
   "cell_type": "markdown",
   "metadata": {},
   "source": [
    "# Using numpy first"
   ]
  },
  {
   "cell_type": "code",
   "execution_count": 3,
   "metadata": {},
   "outputs": [],
   "source": [
    "a = np.random.uniform(size=x.shape[2])\n",
    "b = np.random.uniform(size=x.shape[2])"
   ]
  },
  {
   "cell_type": "code",
   "execution_count": 4,
   "metadata": {},
   "outputs": [
    {
     "data": {
      "text/plain": [
       "array([[ 0.12312745, -0.49106612],\n",
       "       [ 0.49106612,  0.12312745],\n",
       "       [-0.49034429,  0.12226126]])"
      ]
     },
     "execution_count": 4,
     "metadata": {},
     "output_type": "execute_result"
    }
   ],
   "source": [
    "x[:, :, 0]*a[0]+x[:, :, 1]*a[1]"
   ]
  },
  {
   "cell_type": "code",
   "execution_count": 5,
   "metadata": {},
   "outputs": [
    {
     "data": {
      "text/plain": [
       "array([[ 0.12312745, -0.49106612],\n",
       "       [ 0.49106612,  0.12312745],\n",
       "       [-0.49034429,  0.12226126]])"
      ]
     },
     "execution_count": 5,
     "metadata": {},
     "output_type": "execute_result"
    }
   ],
   "source": [
    "Ta = sum(x[:, :, i]*a[i] for i in range(x.shape[2]))\n",
    "Ta"
   ]
  },
  {
   "cell_type": "code",
   "execution_count": 6,
   "metadata": {},
   "outputs": [
    {
     "data": {
      "text/plain": [
       "array([[ 0.95056996, -0.86778695],\n",
       "       [ 0.86778695,  0.95056996],\n",
       "       [ 0.59945948, -0.81012572]])"
      ]
     },
     "execution_count": 6,
     "metadata": {},
     "output_type": "execute_result"
    }
   ],
   "source": [
    "Tb = sum(x[:, :, i]*b[i] for i in range(x.shape[2]))\n",
    "Tb"
   ]
  },
  {
   "cell_type": "code",
   "execution_count": 7,
   "metadata": {},
   "outputs": [],
   "source": [
    "eigvals_a, eigvecs_a = np.linalg.eig(np.matmul(Ta, np.conjugate(Tb.T)))"
   ]
  },
  {
   "cell_type": "code",
   "execution_count": 8,
   "metadata": {},
   "outputs": [],
   "source": [
    "eigvals_b, eigvecs_b = np.linalg.eig(np.conjugate(np.transpose(np.matmul(np.conjugate(Tb.T), Ta))))"
   ]
  },
  {
   "cell_type": "code",
   "execution_count": 9,
   "metadata": {},
   "outputs": [
    {
     "data": {
      "text/plain": [
       "array([3.46687766e-01+0.45558075j, 3.46687766e-01-0.45558075j,\n",
       "       6.37857796e-17+0.j        ])"
      ]
     },
     "execution_count": 9,
     "metadata": {},
     "output_type": "execute_result"
    }
   ],
   "source": [
    "eigvals_a"
   ]
  },
  {
   "cell_type": "code",
   "execution_count": 10,
   "metadata": {},
   "outputs": [
    {
     "data": {
      "text/plain": [
       "array([0.34668777+0.45558075j, 0.34668777-0.45558075j])"
      ]
     },
     "execution_count": 10,
     "metadata": {},
     "output_type": "execute_result"
    }
   ],
   "source": [
    "eigvals_b"
   ]
  },
  {
   "cell_type": "code",
   "execution_count": 11,
   "metadata": {},
   "outputs": [
    {
     "data": {
      "text/plain": [
       "[(0, 0), (1, 1)]"
      ]
     },
     "execution_count": 11,
     "metadata": {},
     "output_type": "execute_result"
    }
   ],
   "source": [
    "# pair up eigenvalues of Ta and Tb\n",
    "idx_pairs = []\n",
    "tol = 1e-5\n",
    "\n",
    "for i, eigval_a in enumerate(eigvals_a):\n",
    "    for j, eigval_b in enumerate(eigvals_b):\n",
    "        if abs(eigval_a - eigval_b) < tol:\n",
    "            idx_pairs += [(i, j)]\n",
    "            break\n",
    "\n",
    "idx_pairs"
   ]
  },
  {
   "cell_type": "code",
   "execution_count": 12,
   "metadata": {},
   "outputs": [
    {
     "data": {
      "text/plain": [
       "array([[-0.74352126+0.j        , -0.74352126-0.j        ,\n",
       "        -0.60495026+0.j        ],\n",
       "       [ 0.02405193+0.43689028j,  0.02405193-0.43689028j,\n",
       "         0.11876059+0.j        ],\n",
       "       [ 0.32812439-0.38478425j,  0.32812439+0.38478425j,\n",
       "         0.78735704+0.j        ]])"
      ]
     },
     "execution_count": 12,
     "metadata": {},
     "output_type": "execute_result"
    }
   ],
   "source": [
    "eigvecs_a"
   ]
  },
  {
   "cell_type": "code",
   "execution_count": 13,
   "metadata": {},
   "outputs": [
    {
     "data": {
      "text/plain": [
       "array([[0.8516954 +0.j        , 0.8516954 -0.j        ],\n",
       "       [0.10961048+0.51244559j, 0.10961048-0.51244559j]])"
      ]
     },
     "execution_count": 13,
     "metadata": {},
     "output_type": "execute_result"
    }
   ],
   "source": [
    "eigvecs_b"
   ]
  },
  {
   "cell_type": "code",
   "execution_count": null,
   "metadata": {},
   "outputs": [],
   "source": []
  }
 ],
 "metadata": {
  "kernelspec": {
   "display_name": "Python 3",
   "language": "python",
   "name": "python3"
  },
  "language_info": {
   "codemirror_mode": {
    "name": "ipython",
    "version": 3
   },
   "file_extension": ".py",
   "mimetype": "text/x-python",
   "name": "python",
   "nbconvert_exporter": "python",
   "pygments_lexer": "ipython3",
   "version": "3.6.7"
  }
 },
 "nbformat": 4,
 "nbformat_minor": 4
}
