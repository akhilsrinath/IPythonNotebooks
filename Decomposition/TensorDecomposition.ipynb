{
 "cells": [
  {
   "cell_type": "code",
   "execution_count": 1,
   "metadata": {
    "collapsed": true
   },
   "outputs": [],
   "source": [
    "import numpy as np\n",
    "import tensorflow as tf"
   ]
  },
  {
   "cell_type": "code",
   "execution_count": 2,
   "metadata": {
    "collapsed": false
   },
   "outputs": [],
   "source": [
    "X = tf.placeholder(tf.float32, shape=(None, None, None), name='X')"
   ]
  },
  {
   "cell_type": "code",
   "execution_count": 3,
   "metadata": {
    "collapsed": false
   },
   "outputs": [],
   "source": [
    "X_shape = tf.shape(X)\n",
    "Xdim0, Xdim1, Xdim2 = X_shape[0], X_shape[1], X_shape[2]"
   ]
  },
  {
   "cell_type": "code",
   "execution_count": 4,
   "metadata": {
    "collapsed": true
   },
   "outputs": [],
   "source": [
    "X0 = tf.reshape(tf.transpose(X, perm=(0, 2, 1)), shape=(Xdim0, Xdim1*Xdim2))\n",
    "X1 = tf.reshape(tf.transpose(X, perm=(1, 2, 0)), shape=(Xdim1, Xdim0*Xdim2))\n",
    "X2 = tf.reshape(tf.transpose(X, perm=(2, 0, 1)), shape=(Xdim2, Xdim0*Xdim1))"
   ]
  },
  {
   "cell_type": "code",
   "execution_count": 5,
   "metadata": {
    "collapsed": true
   },
   "outputs": [],
   "source": [
    "x1 = np.array([[1, 4, 7, 10], [2, 5, 8, 11], [3, 6, 9, 12]], dtype=np.float32)\n",
    "x2 = np.array([[13, 16, 19, 22], [14, 17, 20, 23], [15, 18, 21, 24]], dtype=np.float32)\n",
    "x = np.zeros((3, 4, 2))\n",
    "x[:, :, 0] = x1\n",
    "x[:, :, 1] = x2"
   ]
  },
  {
   "cell_type": "code",
   "execution_count": 6,
   "metadata": {
    "collapsed": false
   },
   "outputs": [
    {
     "data": {
      "text/plain": [
       "(3, 4, 2)"
      ]
     },
     "execution_count": 6,
     "metadata": {},
     "output_type": "execute_result"
    }
   ],
   "source": [
    "sess = tf.Session()\n",
    "init = tf.global_variables_initializer()\n",
    "sess.run(init)\n",
    "sess.run(X_shape, feed_dict={X: x})\n",
    "sess.run((Xdim0, Xdim1, Xdim2), feed_dict={X: x})"
   ]
  },
  {
   "cell_type": "code",
   "execution_count": 7,
   "metadata": {
    "collapsed": false
   },
   "outputs": [
    {
     "data": {
      "text/plain": [
       "array([[ 1.,  4.,  7., 10., 13., 16., 19., 22.],\n",
       "       [ 2.,  5.,  8., 11., 14., 17., 20., 23.],\n",
       "       [ 3.,  6.,  9., 12., 15., 18., 21., 24.]], dtype=float32)"
      ]
     },
     "execution_count": 7,
     "metadata": {},
     "output_type": "execute_result"
    }
   ],
   "source": [
    "sess.run(X0, feed_dict={X: x})"
   ]
  },
  {
   "cell_type": "code",
   "execution_count": 8,
   "metadata": {
    "collapsed": false
   },
   "outputs": [
    {
     "data": {
      "text/plain": [
       "array([[ 1.,  2.,  3., 13., 14., 15.],\n",
       "       [ 4.,  5.,  6., 16., 17., 18.],\n",
       "       [ 7.,  8.,  9., 19., 20., 21.],\n",
       "       [10., 11., 12., 22., 23., 24.]], dtype=float32)"
      ]
     },
     "execution_count": 8,
     "metadata": {},
     "output_type": "execute_result"
    }
   ],
   "source": [
    "sess.run(X1, feed_dict={X: x})"
   ]
  },
  {
   "cell_type": "code",
   "execution_count": 9,
   "metadata": {
    "collapsed": false
   },
   "outputs": [
    {
     "data": {
      "text/plain": [
       "array([[ 1.,  4.,  7., 10.,  2.,  5.,  8., 11.,  3.,  6.,  9., 12.],\n",
       "       [13., 16., 19., 22., 14., 17., 20., 23., 15., 18., 21., 24.]],\n",
       "      dtype=float32)"
      ]
     },
     "execution_count": 9,
     "metadata": {},
     "output_type": "execute_result"
    }
   ],
   "source": [
    "sess.run(X2, feed_dict={X: x})"
   ]
  },
  {
   "cell_type": "code",
   "execution_count": 13,
   "metadata": {
    "collapsed": true
   },
   "outputs": [],
   "source": [
    "# Khatri-Rao product"
   ]
  },
  {
   "cell_type": "code",
   "execution_count": 19,
   "metadata": {
    "collapsed": true
   },
   "outputs": [],
   "source": [
    "k = tf.placeholder(tf.int32, name='k')\n",
    "A0 = tf.Variable(tf.zeros([Xdim0, k]), validate_shape=False, name='A0')\n",
    "A1 = tf.Variable(tf.zeros([Xdim1, k]), validate_shape=False, name='A1')\n",
    "A2 = tf.Variable(tf.zeros([Xdim2, k]), validate_shape=False, name='A2')"
   ]
  },
  {
   "cell_type": "code",
   "execution_count": null,
   "metadata": {
    "collapsed": true
   },
   "outputs": [],
   "source": [
    "def khatrirao_product(tensor1, tensor2):\n",
    "    # use tf.foldl\n",
    "    pass"
   ]
  },
  {
   "cell_type": "code",
   "execution_count": 14,
   "metadata": {
    "collapsed": false
   },
   "outputs": [
    {
     "data": {
      "text/plain": [
       "15.0"
      ]
     },
     "execution_count": 14,
     "metadata": {},
     "output_type": "execute_result"
    }
   ],
   "source": [
    "tmp = tf.constant([1, 2, 3, 4, 5], dtype=tf.float32)\n",
    "sess.run(tf.foldl(lambda a, x: a+x, tmp, initializer=0.))"
   ]
  },
  {
   "cell_type": "code",
   "execution_count": 52,
   "metadata": {
    "collapsed": true
   },
   "outputs": [],
   "source": [
    "a1 = tf.constant([[2., 3., 3.], [1., 2., -1.]])\n",
    "a2 = tf.constant([[2., 3., 1.], [1., 2., 3.]])"
   ]
  },
  {
   "cell_type": "code",
   "execution_count": 53,
   "metadata": {
    "collapsed": false
   },
   "outputs": [
    {
     "data": {
      "text/plain": [
       "array([[4., 9., 3.],\n",
       "       [2., 6., 9.]], dtype=float32)"
      ]
     },
     "execution_count": 53,
     "metadata": {},
     "output_type": "execute_result"
    }
   ],
   "source": [
    "sess.run(tf.multiply(a1[0, :], a2))"
   ]
  },
  {
   "cell_type": "code",
   "execution_count": 62,
   "metadata": {
    "collapsed": false
   },
   "outputs": [],
   "source": [
    "i0 = tf.constant(1)\n",
    "prod0 = tf.multiply(a1[0, :], a2)\n",
    "counter, khprod = tf.while_loop(lambda i, m: tf.less(i, tf.shape(a1)[0]),\n",
    "                                lambda i, m: [i+1, tf.concat([m, tf.multiply(a1[i, :], a2)], 0)],\n",
    "                                loop_vars=[i0, prod0],\n",
    "                                shape_invariants=[i0.get_shape(), tf.TensorShape([None, 3])])"
   ]
  },
  {
   "cell_type": "code",
   "execution_count": 63,
   "metadata": {
    "collapsed": false
   },
   "outputs": [
    {
     "data": {
      "text/plain": [
       "array([[ 4.,  9.,  3.],\n",
       "       [ 2.,  6.,  9.],\n",
       "       [ 2.,  6., -1.],\n",
       "       [ 1.,  4., -3.]], dtype=float32)"
      ]
     },
     "execution_count": 63,
     "metadata": {},
     "output_type": "execute_result"
    }
   ],
   "source": [
    "sess.run(khprod)"
   ]
  },
  {
   "cell_type": "code",
   "execution_count": null,
   "metadata": {
    "collapsed": true
   },
   "outputs": [],
   "source": []
  }
 ],
 "metadata": {
  "kernelspec": {
   "display_name": "Python 3",
   "language": "python",
   "name": "python3"
  },
  "language_info": {
   "codemirror_mode": {
    "name": "ipython",
    "version": 3
   },
   "file_extension": ".py",
   "mimetype": "text/x-python",
   "name": "python",
   "nbconvert_exporter": "python",
   "pygments_lexer": "ipython3",
   "version": "3.6.7"
  }
 },
 "nbformat": 4,
 "nbformat_minor": 2
}
