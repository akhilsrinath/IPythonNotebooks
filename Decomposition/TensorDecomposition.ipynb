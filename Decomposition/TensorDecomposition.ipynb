{
 "cells": [
  {
   "cell_type": "code",
   "execution_count": 1,
   "metadata": {
    "collapsed": true
   },
   "outputs": [],
   "source": [
    "import numpy as np\n",
    "import tensorflow as tf"
   ]
  },
  {
   "cell_type": "code",
   "execution_count": 2,
   "metadata": {
    "collapsed": false
   },
   "outputs": [],
   "source": [
    "X = tf.placeholder(tf.float32, shape=(None, None, None), name='X')"
   ]
  },
  {
   "cell_type": "code",
   "execution_count": 3,
   "metadata": {
    "collapsed": false
   },
   "outputs": [],
   "source": [
    "X_shape = tf.shape(X)\n",
    "Xdim0, Xdim1, Xdim2 = X_shape[0], X_shape[1], X_shape[2]"
   ]
  },
  {
   "cell_type": "code",
   "execution_count": 4,
   "metadata": {
    "collapsed": true
   },
   "outputs": [],
   "source": [
    "X0 = tf.reshape(tf.transpose(X, perm=(0, 2, 1)), shape=(Xdim0, Xdim1*Xdim2))\n",
    "X1 = tf.reshape(tf.transpose(X, perm=(1, 2, 0)), shape=(Xdim1, Xdim0*Xdim2))\n",
    "X2 = tf.reshape(tf.transpose(X, perm=(2, 0, 1)), shape=(Xdim2, Xdim0*Xdim1))"
   ]
  },
  {
   "cell_type": "code",
   "execution_count": 5,
   "metadata": {
    "collapsed": true
   },
   "outputs": [],
   "source": [
    "x1 = np.array([[1, 4, 7, 10], [2, 5, 8, 11], [3, 6, 9, 12]], dtype=np.float32)\n",
    "x2 = np.array([[13, 16, 19, 22], [14, 17, 20, 23], [15, 18, 21, 24]], dtype=np.float32)\n",
    "x = np.zeros((3, 4, 2))\n",
    "x[:, :, 0] = x1\n",
    "x[:, :, 1] = x2"
   ]
  },
  {
   "cell_type": "code",
   "execution_count": 6,
   "metadata": {
    "collapsed": false
   },
   "outputs": [
    {
     "data": {
      "text/plain": [
       "(3, 4, 2)"
      ]
     },
     "execution_count": 6,
     "metadata": {},
     "output_type": "execute_result"
    }
   ],
   "source": [
    "sess = tf.Session()\n",
    "init = tf.global_variables_initializer()\n",
    "sess.run(init)\n",
    "sess.run(X_shape, feed_dict={X: x})\n",
    "sess.run((Xdim0, Xdim1, Xdim2), feed_dict={X: x})"
   ]
  },
  {
   "cell_type": "code",
   "execution_count": 7,
   "metadata": {
    "collapsed": false
   },
   "outputs": [
    {
     "data": {
      "text/plain": [
       "array([[ 1.,  4.,  7., 10., 13., 16., 19., 22.],\n",
       "       [ 2.,  5.,  8., 11., 14., 17., 20., 23.],\n",
       "       [ 3.,  6.,  9., 12., 15., 18., 21., 24.]], dtype=float32)"
      ]
     },
     "execution_count": 7,
     "metadata": {},
     "output_type": "execute_result"
    }
   ],
   "source": [
    "sess.run(X0, feed_dict={X: x})"
   ]
  },
  {
   "cell_type": "code",
   "execution_count": 8,
   "metadata": {
    "collapsed": false
   },
   "outputs": [
    {
     "data": {
      "text/plain": [
       "array([[ 1.,  2.,  3., 13., 14., 15.],\n",
       "       [ 4.,  5.,  6., 16., 17., 18.],\n",
       "       [ 7.,  8.,  9., 19., 20., 21.],\n",
       "       [10., 11., 12., 22., 23., 24.]], dtype=float32)"
      ]
     },
     "execution_count": 8,
     "metadata": {},
     "output_type": "execute_result"
    }
   ],
   "source": [
    "sess.run(X1, feed_dict={X: x})"
   ]
  },
  {
   "cell_type": "code",
   "execution_count": 9,
   "metadata": {
    "collapsed": false
   },
   "outputs": [
    {
     "data": {
      "text/plain": [
       "array([[ 1.,  4.,  7., 10.,  2.,  5.,  8., 11.,  3.,  6.,  9., 12.],\n",
       "       [13., 16., 19., 22., 14., 17., 20., 23., 15., 18., 21., 24.]],\n",
       "      dtype=float32)"
      ]
     },
     "execution_count": 9,
     "metadata": {},
     "output_type": "execute_result"
    }
   ],
   "source": [
    "sess.run(X2, feed_dict={X: x})"
   ]
  },
  {
   "cell_type": "code",
   "execution_count": 13,
   "metadata": {
    "collapsed": true
   },
   "outputs": [],
   "source": [
    "# Khatri-Rao product"
   ]
  },
  {
   "cell_type": "code",
   "execution_count": 19,
   "metadata": {
    "collapsed": true
   },
   "outputs": [],
   "source": [
    "k = tf.placeholder(tf.int32, name='k')\n",
    "A0 = tf.Variable(tf.zeros([Xdim0, k]), validate_shape=False, name='A0')\n",
    "A1 = tf.Variable(tf.zeros([Xdim1, k]), validate_shape=False, name='A1')\n",
    "A2 = tf.Variable(tf.zeros([Xdim2, k]), validate_shape=False, name='A2')"
   ]
  },
  {
   "cell_type": "code",
   "execution_count": 14,
   "metadata": {
    "collapsed": false
   },
   "outputs": [
    {
     "data": {
      "text/plain": [
       "15.0"
      ]
     },
     "execution_count": 14,
     "metadata": {},
     "output_type": "execute_result"
    }
   ],
   "source": [
    "tmp = tf.constant([1, 2, 3, 4, 5], dtype=tf.float32)\n",
    "sess.run(tf.foldl(lambda a, x: a+x, tmp, initializer=0.))"
   ]
  },
  {
   "cell_type": "code",
   "execution_count": 52,
   "metadata": {
    "collapsed": true
   },
   "outputs": [],
   "source": [
    "a1 = tf.constant([[2., 3., 3.], [1., 2., -1.]])\n",
    "a2 = tf.constant([[2., 3., 1.], [1., 2., 3.]])"
   ]
  },
  {
   "cell_type": "code",
   "execution_count": 53,
   "metadata": {
    "collapsed": false
   },
   "outputs": [
    {
     "data": {
      "text/plain": [
       "array([[4., 9., 3.],\n",
       "       [2., 6., 9.]], dtype=float32)"
      ]
     },
     "execution_count": 53,
     "metadata": {},
     "output_type": "execute_result"
    }
   ],
   "source": [
    "sess.run(tf.multiply(a1[0, :], a2))"
   ]
  },
  {
   "cell_type": "code",
   "execution_count": 67,
   "metadata": {
    "collapsed": false
   },
   "outputs": [],
   "source": [
    "i0 = tf.constant(1)\n",
    "prod0 = tf.multiply(a1[0, :], a2)\n",
    "counter, khprod = tf.while_loop(lambda i, m: tf.less(i, tf.shape(a1)[0]),\n",
    "                                lambda i, m: [i+1, tf.concat([m, tf.multiply(a1[i, :], a2)], 0)],\n",
    "                                loop_vars=[i0, prod0],\n",
    "                                shape_invariants=[i0.get_shape(), tf.TensorShape([None, None])])"
   ]
  },
  {
   "cell_type": "code",
   "execution_count": 68,
   "metadata": {
    "collapsed": false
   },
   "outputs": [
    {
     "data": {
      "text/plain": [
       "array([[ 4.,  9.,  3.],\n",
       "       [ 2.,  6.,  9.],\n",
       "       [ 2.,  6., -1.],\n",
       "       [ 1.,  4., -3.]], dtype=float32)"
      ]
     },
     "execution_count": 68,
     "metadata": {},
     "output_type": "execute_result"
    }
   ],
   "source": [
    "sess.run(khprod)"
   ]
  },
  {
   "cell_type": "code",
   "execution_count": 69,
   "metadata": {
    "collapsed": true
   },
   "outputs": [],
   "source": [
    "def khatrirao_product(tensor1, tensor2):\n",
    "    i0 = tf.constant(1)\n",
    "    prod0 = tf.multiply(tensor1[0, :], tensor2)\n",
    "    _, khprod = tf.while_loop(lambda i, m: tf.less(i, tf.shape(tensor1)[0]),\n",
    "                              lambda i, m: [i+1, tf.concat([m, tf.multiply(tensor1[i, :], tensor2)], 0)],\n",
    "                              loop_vars=[i0, prod0],\n",
    "                              shape_invariants=[i0.get_shape(), tf.TensorShape([None, None])])\n",
    "    return khprod"
   ]
  },
  {
   "cell_type": "code",
   "execution_count": 72,
   "metadata": {
    "collapsed": false
   },
   "outputs": [
    {
     "data": {
      "text/plain": [
       "array([[ 4.,  9.,  3.],\n",
       "       [ 2.,  6.,  9.],\n",
       "       [ 2.,  6., -1.],\n",
       "       [ 1.,  4., -3.]], dtype=float32)"
      ]
     },
     "execution_count": 72,
     "metadata": {},
     "output_type": "execute_result"
    }
   ],
   "source": [
    "sess.run(khatrirao_product(a1, a2))"
   ]
  },
  {
   "cell_type": "markdown",
   "metadata": {},
   "source": [
    "# ALS"
   ]
  },
  {
   "cell_type": "code",
   "execution_count": 86,
   "metadata": {
    "collapsed": true
   },
   "outputs": [],
   "source": [
    "# we need dimensions in advance\n",
    "dim0, dim1, dim2 = x.shape\n",
    "k = 3"
   ]
  },
  {
   "cell_type": "code",
   "execution_count": 87,
   "metadata": {
    "collapsed": false
   },
   "outputs": [],
   "source": [
    "A = tf.Variable(initial_value=tf.random_normal([dim0, k]), name='A')\n",
    "B = tf.Variable(initial_value=tf.random_normal([dim1, k]), name='B')\n",
    "C = tf.Variable(initial_value=tf.random_normal([dim2, k]), name='C')"
   ]
  },
  {
   "cell_type": "code",
   "execution_count": 88,
   "metadata": {
    "collapsed": false
   },
   "outputs": [],
   "source": [
    "costA = tf.reduce_sum(tf.abs(X0 - tf.matmul(A, tf.transpose(khatrirao_product(C, B)))))\n",
    "costB = tf.reduce_sum(tf.abs(X1 - tf.matmul(B, tf.transpose(khatrirao_product(C, A)))))\n",
    "costC = tf.reduce_sum(tf.abs(X2 - tf.matmul(C, tf.transpose(khatrirao_product(B, A)))))"
   ]
  },
  {
   "cell_type": "code",
   "execution_count": 89,
   "metadata": {
    "collapsed": true
   },
   "outputs": [],
   "source": [
    "alpha = 0.01\n",
    "\n",
    "trainA = tf.train.GradientDescentOptimizer(alpha).minimize(costA)\n",
    "trainB = tf.train.GradientDescentOptimizer(alpha).minimize(costB)\n",
    "trainC = tf.train.GradientDescentOptimizer(alpha).minimize(costC)"
   ]
  },
  {
   "cell_type": "code",
   "execution_count": 91,
   "metadata": {
    "collapsed": false
   },
   "outputs": [
    {
     "name": "stdout",
     "output_type": "stream",
     "text": [
      "[[ 1.4624751   0.97725594 -1.7744727 ]\n",
      " [ 1.7223111   1.2433647  -1.9603282 ]\n",
      " [-0.47542602  2.0718288  -1.8354357 ]]\n",
      "[[ 0.38282987 -0.48583993 -1.9970126 ]\n",
      " [-0.19869323 -0.9882004  -1.718226  ]\n",
      " [-1.4299908  -1.6319151  -1.8448081 ]\n",
      " [-1.2108257  -2.5617292  -1.6278971 ]]\n",
      "[[-1.111714   -1.8196747   0.53110015]\n",
      " [-1.0956985  -1.787748    3.7153187 ]]\n"
     ]
    }
   ],
   "source": [
    "init = tf.global_variables_initializer()\n",
    "sess.run(init)\n",
    "\n",
    "for _ in range(100):\n",
    "    sess.run(trainA, feed_dict={X: x})\n",
    "    sess.run(trainB, feed_dict={X: x})\n",
    "    sess.run(trainC, feed_dict={X: x})\n",
    "    \n",
    "print(sess.run(A, feed_dict={X: x}))\n",
    "print(sess.run(B, feed_dict={X: x}))\n",
    "print(sess.run(C, feed_dict={X: x}))"
   ]
  },
  {
   "cell_type": "code",
   "execution_count": null,
   "metadata": {
    "collapsed": true
   },
   "outputs": [],
   "source": []
  }
 ],
 "metadata": {
  "kernelspec": {
   "display_name": "Python 3",
   "language": "python",
   "name": "python3"
  },
  "language_info": {
   "codemirror_mode": {
    "name": "ipython",
    "version": 3
   },
   "file_extension": ".py",
   "mimetype": "text/x-python",
   "name": "python",
   "nbconvert_exporter": "python",
   "pygments_lexer": "ipython3",
   "version": "3.6.7"
  }
 },
 "nbformat": 4,
 "nbformat_minor": 2
}
