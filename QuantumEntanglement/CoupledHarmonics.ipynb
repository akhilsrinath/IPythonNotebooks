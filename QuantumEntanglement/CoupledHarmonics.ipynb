{
 "cells": [
  {
   "cell_type": "code",
   "execution_count": 1,
   "metadata": {
    "collapsed": true
   },
   "outputs": [],
   "source": [
    "import numpy as np\n",
    "import pyqentangle"
   ]
  },
  {
   "cell_type": "code",
   "execution_count": 2,
   "metadata": {
    "collapsed": true
   },
   "outputs": [],
   "source": [
    "from matplotlib import pyplot as plt\n",
    "%matplotlib inline"
   ]
  },
  {
   "cell_type": "code",
   "execution_count": 3,
   "metadata": {
    "collapsed": true
   },
   "outputs": [],
   "source": [
    "biwavefcn = lambda x1, x2: np.exp(-0.5 * (x1 + x2) ** 2) * np.exp(-(x1 - x2) ** 2) * np.sqrt(np.sqrt(8.) / np.pi)"
   ]
  },
  {
   "cell_type": "code",
   "execution_count": 4,
   "metadata": {
    "collapsed": false
   },
   "outputs": [],
   "source": [
    "modes = pyqentangle.continuous_schmidt_decomposition(biwavefcn, -10., 10., -10., 10.)"
   ]
  },
  {
   "cell_type": "code",
   "execution_count": 5,
   "metadata": {
    "collapsed": false
   },
   "outputs": [
    {
     "data": {
      "text/plain": [
       "[(0.9925580240013256,\n",
       "  <function pyqentangle.continuous.<lambda>>,\n",
       "  <function pyqentangle.continuous.<lambda>>),\n",
       " (0.4111309949835888,\n",
       "  <function pyqentangle.continuous.<lambda>>,\n",
       "  <function pyqentangle.continuous.<lambda>>),\n",
       " (0.17029603403414756,\n",
       "  <function pyqentangle.continuous.<lambda>>,\n",
       "  <function pyqentangle.continuous.<lambda>>),\n",
       " (0.07053892691529402,\n",
       "  <function pyqentangle.continuous.<lambda>>,\n",
       "  <function pyqentangle.continuous.<lambda>>),\n",
       " (0.029218180203559305,\n",
       "  <function pyqentangle.continuous.<lambda>>,\n",
       "  <function pyqentangle.continuous.<lambda>>),\n",
       " (0.012102566508175351,\n",
       "  <function pyqentangle.continuous.<lambda>>,\n",
       "  <function pyqentangle.continuous.<lambda>>),\n",
       " (0.005013047187208325,\n",
       "  <function pyqentangle.continuous.<lambda>>,\n",
       "  <function pyqentangle.continuous.<lambda>>),\n",
       " (0.0020764721337576467,\n",
       "  <function pyqentangle.continuous.<lambda>>,\n",
       "  <function pyqentangle.continuous.<lambda>>),\n",
       " (0.0008601029196907821,\n",
       "  <function pyqentangle.continuous.<lambda>>,\n",
       "  <function pyqentangle.continuous.<lambda>>),\n",
       " (0.00035626629437385997,\n",
       "  <function pyqentangle.continuous.<lambda>>,\n",
       "  <function pyqentangle.continuous.<lambda>>)]"
      ]
     },
     "execution_count": 5,
     "metadata": {},
     "output_type": "execute_result"
    }
   ],
   "source": [
    "modes[:10]"
   ]
  },
  {
   "cell_type": "code",
   "execution_count": 8,
   "metadata": {
    "collapsed": false
   },
   "outputs": [
    {
     "data": {
      "text/plain": [
       "1.189207115002727"
      ]
     },
     "execution_count": 8,
     "metadata": {},
     "output_type": "execute_result"
    }
   ],
   "source": [
    "np.sum(np.square([mode[0] for mode in modes]))"
   ]
  },
  {
   "cell_type": "code",
   "execution_count": 9,
   "metadata": {
    "collapsed": false
   },
   "outputs": [
    {
     "data": {
      "text/plain": [
       "[<matplotlib.lines.Line2D at 0x11405a410>]"
      ]
     },
     "execution_count": 9,
     "metadata": {},
     "output_type": "execute_result"
    },
    {
     "data": {
      "image/png": "[encoded data removed]",
      "text/plain": [
       "<matplotlib.figure.Figure at 0x11405a450>"
      ]
     },
     "metadata": {},
     "output_type": "display_data"
    }
   ],
   "source": [
    "xarray = np.linspace(-10., 10., 100)\n",
    "\n",
    "plt.subplot(3, 2, 1)\n",
    "plt.plot(xarray, modes[0][1](xarray))\n",
    "plt.plot(xarray, modes[0][2](xarray))"
   ]
  },
  {
   "cell_type": "code",
   "execution_count": 7,
   "metadata": {
    "collapsed": false
   },
   "outputs": [
    {
     "data": {
      "text/plain": [
       "[<matplotlib.lines.Line2D at 0x109b83810>]"
      ]
     },
     "execution_count": 7,
     "metadata": {},
     "output_type": "execute_result"
    },
    {
     "data": {
      "image/png": "[encoded data removed]",
      "text/plain": [
       "<Figure size 600x400 with 1 Axes>"
      ]
     },
     "metadata": {},
     "output_type": "display_data"
    }
   ],
   "source": [
    "xarray = np.linspace(-10., 10., 100)\n",
    "plt.plot(xarray, modes[1][1](xarray))\n",
    "plt.plot(xarray, modes[1][2](xarray))"
   ]
  },
  {
   "cell_type": "code",
   "execution_count": null,
   "metadata": {
    "collapsed": true
   },
   "outputs": [],
   "source": []
  }
 ],
 "metadata": {
  "kernelspec": {
   "display_name": "Python 2",
   "language": "python",
   "name": "python2"
  },
  "language_info": {
   "codemirror_mode": {
    "name": "ipython",
    "version": 2
   },
   "file_extension": ".py",
   "mimetype": "text/x-python",
   "name": "python",
   "nbconvert_exporter": "python",
   "pygments_lexer": "ipython2",
   "version": "2.7.13"
  }
 },
 "nbformat": 4,
 "nbformat_minor": 0
}
